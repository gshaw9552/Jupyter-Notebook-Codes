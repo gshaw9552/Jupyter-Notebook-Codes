{
 "cells": [
  {
   "cell_type": "code",
   "execution_count": 1,
   "id": "76b7e022-6124-4fc1-9461-9a46a16f347f",
   "metadata": {},
   "outputs": [],
   "source": [
    "import numpy as np"
   ]
  },
  {
   "cell_type": "code",
   "execution_count": 2,
   "id": "e90bf5e1-eb74-4050-b815-bc90fdc90ffa",
   "metadata": {},
   "outputs": [],
   "source": [
    "# Truth Table for 3-input AND gate\n",
    "inputs = np.array([[0, 0, 0], [0, 0, 1], [0, 1, 0], [0, 1, 1], \n",
    "                   [1, 0, 0], [1, 0, 1], [1, 1, 0], [1, 1, 1]])\n",
    "outputs = np.array([[0], [0], [0], [0], [0], [0], [0], [1]])"
   ]
  },
  {
   "cell_type": "code",
   "execution_count": 3,
   "id": "237103f9-07d8-482a-9aca-c406c8ad3c54",
   "metadata": {},
   "outputs": [],
   "source": [
    "# Initializing Weights and Bias\n",
    "np.random.seed(43)\n",
    "weights = np.random.rand(3, 1)\n",
    "bias = np.random.rand(1)\n",
    "learning_rate = 0.2"
   ]
  },
  {
   "cell_type": "code",
   "execution_count": 4,
   "id": "2b7028a2-987a-4d3b-b0b2-042e7428e413",
   "metadata": {},
   "outputs": [],
   "source": [
    "# Defining Activation Function\n",
    "def sigmoidActivation(x):\n",
    "    return 1 / (1 + np.exp(-x))\n",
    "def sigmoidDerivative(sigmoid):\n",
    "    return sigmoid * (1 - sigmoid) "
   ]
  },
  {
   "cell_type": "code",
   "execution_count": 5,
   "id": "8adb2c25-1182-4743-a9bc-834b8fd11e33",
   "metadata": {},
   "outputs": [
    {
     "name": "stdout",
     "output_type": "stream",
     "text": [
      "Epoch 0\n",
      "Loss:  0.18759102456500887\n",
      "Epoch 1000\n",
      "Loss:  0.008572265054800333\n",
      "Epoch 2000\n",
      "Loss:  0.0042007062427118795\n",
      "Epoch 3000\n",
      "Loss:  0.0026951472840618003\n",
      "Epoch 4000\n",
      "Loss:  0.0019588809680481903\n",
      "Epoch 5000\n",
      "Loss:  0.0015286926391372003\n",
      "Epoch 6000\n",
      "Loss:  0.001248755158471711\n",
      "Epoch 7000\n",
      "Loss:  0.001052968744502725\n",
      "Epoch 8000\n",
      "Loss:  0.0009087847292562013\n",
      "Epoch 9000\n",
      "Loss:  0.0007984096086282896\n",
      "Epoch 10000\n",
      "Loss:  0.0007113323315947055\n"
     ]
    }
   ],
   "source": [
    "# Training the model\n",
    "for epoch in range(10001):\n",
    "    # Forward Bias\n",
    "    z = np.dot(inputs, weights) + bias\n",
    "    predictions = sigmoidActivation(z)\n",
    "\n",
    "    # Compute Loss(MSE)\n",
    "    loss = (1/2) * (predictions - outputs) ** 2\n",
    "\n",
    "    # BackPropagation\n",
    "    d_loss = predictions - outputs\n",
    "    d_pred = d_loss * sigmoidDerivative(predictions)\n",
    "\n",
    "    # Gradient Descent\n",
    "    weights = weights - learning_rate * np.dot(inputs.T, d_pred)\n",
    "    bias = bias - learning_rate * np.sum(d_pred)\n",
    "\n",
    "    # Optionally print loss to see the progress\n",
    "    if epoch % 1000 == 0:\n",
    "        print('Epoch', epoch)\n",
    "        print(\"Loss: \", np.mean(loss))"
   ]
  },
  {
   "cell_type": "code",
   "execution_count": 6,
   "id": "3910d9fa-c21a-495f-a53e-139e6b8704f5",
   "metadata": {},
   "outputs": [
    {
     "name": "stdout",
     "output_type": "stream",
     "text": [
      "Weights after training: [[5.60533864]\n",
      " [5.60533864]\n",
      " [5.60533864]]\n",
      "Bias after training: [-14.2396591]\n",
      "Final predictions: [[0.]\n",
      " [0.]\n",
      " [0.]\n",
      " [0.]\n",
      " [0.]\n",
      " [0.]\n",
      " [0.]\n",
      " [1.]]\n"
     ]
    }
   ],
   "source": [
    "# Testing the model\n",
    "print(\"Weights after training:\", weights)\n",
    "print(\"Bias after training:\", bias)\n",
    "\n",
    "# Final Predictions\n",
    "final_predictions = sigmoidActivation(np.dot(inputs, weights) + bias)\n",
    "print(\"Final predictions:\", final_predictions.round())"
   ]
  }
 ],
 "metadata": {
  "kernelspec": {
   "display_name": "Python 3 (ipykernel)",
   "language": "python",
   "name": "python3"
  },
  "language_info": {
   "codemirror_mode": {
    "name": "ipython",
    "version": 3
   },
   "file_extension": ".py",
   "mimetype": "text/x-python",
   "name": "python",
   "nbconvert_exporter": "python",
   "pygments_lexer": "ipython3",
   "version": "3.12.6"
  }
 },
 "nbformat": 4,
 "nbformat_minor": 5
}
