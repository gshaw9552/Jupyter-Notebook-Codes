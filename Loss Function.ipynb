{
 "cells": [
  {
   "cell_type": "code",
   "execution_count": 1,
   "id": "b1408ea9-9728-4814-97a4-54ca3b180a4c",
   "metadata": {},
   "outputs": [],
   "source": [
    "import numpy as np"
   ]
  },
  {
   "cell_type": "markdown",
   "id": "5f70bc71-cb2b-4cb9-911f-be3ec07ed4ff",
   "metadata": {},
   "source": [
    "## Categorical Cross-Entropy Loss "
   ]
  },
  {
   "cell_type": "code",
   "execution_count": 2,
   "id": "ad3abf1b-b2cd-488d-9f6d-aab68414d37d",
   "metadata": {},
   "outputs": [
    {
     "name": "stdout",
     "output_type": "stream",
     "text": [
      "Categorical Cross-Entropy Loss:  0.5108256237659907\n"
     ]
    }
   ],
   "source": [
    "true_label = np.array([0, 0, 1])\n",
    "predicted_probabilities = np.array([0.1, 0.3, 0.6])\n",
    "Loss = -np.sum(true_label * np.log(predicted_probabilities))\n",
    "print(\"Categorical Cross-Entropy Loss: \", Loss)"
   ]
  },
  {
   "cell_type": "markdown",
   "id": "3f846cb8-425f-4b25-83a4-9d71e86de6bd",
   "metadata": {},
   "source": [
    "## Derivative of Categorical Cross-Entropy Loss"
   ]
  },
  {
   "cell_type": "code",
   "execution_count": 4,
   "id": "e559b1a4-1759-4bdb-87b0-eb5a07f88618",
   "metadata": {},
   "outputs": [
    {
     "name": "stdout",
     "output_type": "stream",
     "text": [
      "Derivative of Categorical Cross-Entropy Loss:  [ 0.          0.         -1.66666667]\n"
     ]
    }
   ],
   "source": [
    "derivative = -true_label/predicted_probabilities\n",
    "print(\"Derivative of Categorical Cross-Entropy Loss: \", derivative)"
   ]
  },
  {
   "cell_type": "code",
   "execution_count": null,
   "id": "feaf1490-81ac-4331-9a92-d8b6a2558195",
   "metadata": {},
   "outputs": [],
   "source": []
  }
 ],
 "metadata": {
  "kernelspec": {
   "display_name": "Python 3 (ipykernel)",
   "language": "python",
   "name": "python3"
  },
  "language_info": {
   "codemirror_mode": {
    "name": "ipython",
    "version": 3
   },
   "file_extension": ".py",
   "mimetype": "text/x-python",
   "name": "python",
   "nbconvert_exporter": "python",
   "pygments_lexer": "ipython3",
   "version": "3.12.6"
  }
 },
 "nbformat": 4,
 "nbformat_minor": 5
}
