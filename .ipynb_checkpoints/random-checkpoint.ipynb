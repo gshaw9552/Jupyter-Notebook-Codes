{
 "cells": [
  {
   "cell_type": "code",
   "execution_count": 1,
   "id": "72ab767c-4682-4b8e-9dfc-2003c3d263e5",
   "metadata": {},
   "outputs": [],
   "source": [
    "nst_tup = (\"System\", (60, 75, 45), (15, 3, 12))"
   ]
  },
  {
   "cell_type": "code",
   "execution_count": 2,
   "id": "343ffd2b-d53b-48e4-87d2-c27900c428b2",
   "metadata": {},
   "outputs": [
    {
     "data": {
      "text/plain": [
       "75"
      ]
     },
     "execution_count": 2,
     "metadata": {},
     "output_type": "execute_result"
    }
   ],
   "source": [
    "nst_tup[1][1]"
   ]
  },
  {
   "cell_type": "code",
   "execution_count": 7,
   "id": "313c6dd8-8861-49dc-9e7e-11b17c22846f",
   "metadata": {},
   "outputs": [
    {
     "data": {
      "text/plain": [
       "75"
      ]
     },
     "execution_count": 7,
     "metadata": {},
     "output_type": "execute_result"
    }
   ],
   "source": [
    "nst_tup[1:2][0][1]"
   ]
  },
  {
   "cell_type": "code",
   "execution_count": 9,
   "id": "d65470e2-d568-4cbc-88f2-898d6f0ce368",
   "metadata": {},
   "outputs": [
    {
     "name": "stdout",
     "output_type": "stream",
     "text": [
      "Output is : 12 and [25, 32, 39] and 44\n"
     ]
    }
   ],
   "source": [
    "scores = (12, 25, 32, 39, 44)\n",
    "f_score, *bw_s, l_score = scores\n",
    "print(\"Output is :\", f_score, \"and\", bw_s, \"and\", l_score)"
   ]
  },
  {
   "cell_type": "code",
   "execution_count": 15,
   "id": "f05f040b-1c38-44d0-9c45-e271a0ad659a",
   "metadata": {},
   "outputs": [
    {
     "name": "stdout",
     "output_type": "stream",
     "text": [
      "\n"
     ]
    }
   ],
   "source": [
    "dict1 = {}\n",
    "tup1 = ()\n",
    "st1 = set()\n",
    "toy = \"baseball\"\n",
    "gt_str = toy[2:2]\n",
    "print(gt_str)"
   ]
  },
  {
   "cell_type": "code",
   "execution_count": 18,
   "id": "9220c048-86fe-407a-a871-a6ca837cdabb",
   "metadata": {},
   "outputs": [
    {
     "name": "stdout",
     "output_type": "stream",
     "text": [
      "5\n",
      "5\n"
     ]
    }
   ],
   "source": [
    "city = {'Delhi':3, 'Bengaluru':5, 'Chennai':4, 'Kolkata':6, 'Mumbai':7}\n",
    "print(city['Bengaluru'])\n",
    "# print(city.get['Bengaluru'])\n",
    "# print(city.values()[1])\n",
    "print(list(city.values())[1])"
   ]
  },
  {
   "cell_type": "code",
   "execution_count": 23,
   "id": "a27bebd7-b613-42ac-a92c-fb78a1317e36",
   "metadata": {},
   "outputs": [
    {
     "data": {
      "text/plain": [
       "1"
      ]
     },
     "execution_count": 23,
     "metadata": {},
     "output_type": "execute_result"
    }
   ],
   "source": [
    "list_tens = [[\"October\", 24, [\"2021\"]]]\n",
    "len(list_tens)"
   ]
  },
  {
   "cell_type": "code",
   "execution_count": 24,
   "id": "cb355969-0523-47fe-b43e-7f0dbe97a91c",
   "metadata": {},
   "outputs": [],
   "source": [
    "tuple_1 = (1,5,6,7,8)\n",
    "tuple_2 = (8,9,4)"
   ]
  },
  {
   "cell_type": "code",
   "execution_count": 25,
   "id": "38762b4a-5023-4816-ae15-02c21b36c36b",
   "metadata": {},
   "outputs": [
    {
     "data": {
      "text/plain": [
       "27"
      ]
     },
     "execution_count": 25,
     "metadata": {},
     "output_type": "execute_result"
    }
   ],
   "source": [
    "sum(tuple_1)"
   ]
  },
  {
   "cell_type": "code",
   "execution_count": 26,
   "id": "56980d87-178d-4449-8fb3-e956c933eac8",
   "metadata": {},
   "outputs": [
    {
     "data": {
      "text/plain": [
       "(8, 9, 4, 1, 5, 6, 7, 8)"
      ]
     },
     "execution_count": 26,
     "metadata": {},
     "output_type": "execute_result"
    }
   ],
   "source": [
    "tuple_2 + tuple_1"
   ]
  },
  {
   "cell_type": "code",
   "execution_count": 29,
   "id": "84fca365-c6d1-44a2-bb4b-d2027cf9e075",
   "metadata": {},
   "outputs": [
    {
     "data": {
      "text/plain": [
       "array([15, 19, 23])"
      ]
     },
     "execution_count": 29,
     "metadata": {},
     "output_type": "execute_result"
    }
   ],
   "source": [
    "import numpy as np\n",
    "list1=np.arange(15,25,4)\n",
    "list1"
   ]
  },
  {
   "cell_type": "code",
   "execution_count": 31,
   "id": "cbb97d89-a97a-4423-ba4b-38abe98d5373",
   "metadata": {},
   "outputs": [
    {
     "data": {
      "text/plain": [
       "(array([1]),)"
      ]
     },
     "execution_count": 31,
     "metadata": {},
     "output_type": "execute_result"
    }
   ],
   "source": [
    "np.where(list1 == 19)"
   ]
  },
  {
   "cell_type": "code",
   "execution_count": 38,
   "id": "d36e7198-f8d3-4d62-9d31-2a01291d17cb",
   "metadata": {},
   "outputs": [
    {
     "data": {
      "text/plain": [
       "{'Tamil Nadu': 'TN', 'Kerala': 'KL', 'Maharashtra': 'MH'}"
      ]
     },
     "execution_count": 38,
     "metadata": {},
     "output_type": "execute_result"
    }
   ],
   "source": [
    "states = {'Tamil Nadu': 'TN', 'Karnataka': 'KA', 'Kerala': 'KL', 'Maharashtra': 'MH'}\n",
    "del states['Karnataka']\n",
    "states"
   ]
  },
  {
   "cell_type": "code",
   "execution_count": 39,
   "id": "22c1549f-6658-47c7-9eff-b18e13788452",
   "metadata": {},
   "outputs": [
    {
     "ename": "TypeError",
     "evalue": "dict.popitem() takes no arguments (1 given)",
     "output_type": "error",
     "traceback": [
      "\u001b[1;31m---------------------------------------------------------------------------\u001b[0m",
      "\u001b[1;31mTypeError\u001b[0m                                 Traceback (most recent call last)",
      "Cell \u001b[1;32mIn[39], line 2\u001b[0m\n\u001b[0;32m      1\u001b[0m states \u001b[38;5;241m=\u001b[39m {\u001b[38;5;124m'\u001b[39m\u001b[38;5;124mTamil Nadu\u001b[39m\u001b[38;5;124m'\u001b[39m: \u001b[38;5;124m'\u001b[39m\u001b[38;5;124mTN\u001b[39m\u001b[38;5;124m'\u001b[39m, \u001b[38;5;124m'\u001b[39m\u001b[38;5;124mKarnataka\u001b[39m\u001b[38;5;124m'\u001b[39m: \u001b[38;5;124m'\u001b[39m\u001b[38;5;124mKA\u001b[39m\u001b[38;5;124m'\u001b[39m, \u001b[38;5;124m'\u001b[39m\u001b[38;5;124mKerala\u001b[39m\u001b[38;5;124m'\u001b[39m: \u001b[38;5;124m'\u001b[39m\u001b[38;5;124mKL\u001b[39m\u001b[38;5;124m'\u001b[39m, \u001b[38;5;124m'\u001b[39m\u001b[38;5;124mMaharashtra\u001b[39m\u001b[38;5;124m'\u001b[39m: \u001b[38;5;124m'\u001b[39m\u001b[38;5;124mMH\u001b[39m\u001b[38;5;124m'\u001b[39m}\n\u001b[1;32m----> 2\u001b[0m \u001b[43mstates\u001b[49m\u001b[38;5;241;43m.\u001b[39;49m\u001b[43mpopitem\u001b[49m\u001b[43m(\u001b[49m\u001b[38;5;124;43m'\u001b[39;49m\u001b[38;5;124;43mKarnataka\u001b[39;49m\u001b[38;5;124;43m'\u001b[39;49m\u001b[43m)\u001b[49m\n\u001b[0;32m      3\u001b[0m states\n",
      "\u001b[1;31mTypeError\u001b[0m: dict.popitem() takes no arguments (1 given)"
     ]
    }
   ],
   "source": [
    "states = {'Tamil Nadu': 'TN', 'Karnataka': 'KA', 'Kerala': 'KL', 'Maharashtra': 'MH'}\n",
    "states.popitem('Karnataka')\n",
    "states"
   ]
  },
  {
   "cell_type": "code",
   "execution_count": 40,
   "id": "e35578da-9e91-46eb-9f47-111abd57d767",
   "metadata": {},
   "outputs": [
    {
     "data": {
      "text/plain": [
       "{'Tamil Nadu': 'TN', 'Kerala': 'KL', 'Maharashtra': 'MH'}"
      ]
     },
     "execution_count": 40,
     "metadata": {},
     "output_type": "execute_result"
    }
   ],
   "source": [
    "states = {'Tamil Nadu': 'TN', 'Karnataka': 'KA', 'Kerala': 'KL', 'Maharashtra': 'MH'}\n",
    "states.pop('Karnataka')\n",
    "states"
   ]
  },
  {
   "cell_type": "code",
   "execution_count": 41,
   "id": "e2da430d-fc72-4146-8241-77318d776bea",
   "metadata": {},
   "outputs": [
    {
     "ename": "KeyError",
     "evalue": "slice('Karnataka', 'KA', None)",
     "output_type": "error",
     "traceback": [
      "\u001b[1;31m---------------------------------------------------------------------------\u001b[0m",
      "\u001b[1;31mKeyError\u001b[0m                                  Traceback (most recent call last)",
      "Cell \u001b[1;32mIn[41], line 2\u001b[0m\n\u001b[0;32m      1\u001b[0m states \u001b[38;5;241m=\u001b[39m {\u001b[38;5;124m'\u001b[39m\u001b[38;5;124mTamil Nadu\u001b[39m\u001b[38;5;124m'\u001b[39m: \u001b[38;5;124m'\u001b[39m\u001b[38;5;124mTN\u001b[39m\u001b[38;5;124m'\u001b[39m, \u001b[38;5;124m'\u001b[39m\u001b[38;5;124mKarnataka\u001b[39m\u001b[38;5;124m'\u001b[39m: \u001b[38;5;124m'\u001b[39m\u001b[38;5;124mKA\u001b[39m\u001b[38;5;124m'\u001b[39m, \u001b[38;5;124m'\u001b[39m\u001b[38;5;124mKerala\u001b[39m\u001b[38;5;124m'\u001b[39m: \u001b[38;5;124m'\u001b[39m\u001b[38;5;124mKL\u001b[39m\u001b[38;5;124m'\u001b[39m, \u001b[38;5;124m'\u001b[39m\u001b[38;5;124mMaharashtra\u001b[39m\u001b[38;5;124m'\u001b[39m: \u001b[38;5;124m'\u001b[39m\u001b[38;5;124mMH\u001b[39m\u001b[38;5;124m'\u001b[39m}\n\u001b[1;32m----> 2\u001b[0m \u001b[38;5;28;01mdel\u001b[39;00m \u001b[43mstates\u001b[49m\u001b[43m[\u001b[49m\u001b[38;5;124;43m'\u001b[39;49m\u001b[38;5;124;43mKarnataka\u001b[39;49m\u001b[38;5;124;43m'\u001b[39;49m\u001b[43m:\u001b[49m\u001b[38;5;124;43m'\u001b[39;49m\u001b[38;5;124;43mKA\u001b[39;49m\u001b[38;5;124;43m'\u001b[39;49m\u001b[43m]\u001b[49m\n\u001b[0;32m      3\u001b[0m states\n",
      "\u001b[1;31mKeyError\u001b[0m: slice('Karnataka', 'KA', None)"
     ]
    }
   ],
   "source": [
    "states = {'Tamil Nadu': 'TN', 'Karnataka': 'KA', 'Kerala': 'KL', 'Maharashtra': 'MH'}\n",
    "del states['Karnataka':'KA']\n",
    "states"
   ]
  },
  {
   "cell_type": "code",
   "execution_count": 45,
   "id": "855657a8-3784-429d-a04b-6b1b4ce28ecf",
   "metadata": {},
   "outputs": [
    {
     "data": {
      "text/plain": [
       "array([24, 15, 20])"
      ]
     },
     "execution_count": 45,
     "metadata": {},
     "output_type": "execute_result"
    }
   ],
   "source": [
    "arr = np.array([[5,9,10], [7,2,6], [12,8,0]])\n",
    "np.sum(arr, axis = 1)"
   ]
  },
  {
   "cell_type": "code",
   "execution_count": 46,
   "id": "f42d3fcc-4613-413e-b5c5-8d2398346d64",
   "metadata": {},
   "outputs": [
    {
     "data": {
      "text/plain": [
       "array([4, 5, 6])"
      ]
     },
     "execution_count": 46,
     "metadata": {},
     "output_type": "execute_result"
    }
   ],
   "source": [
    "arr = np.array([[[1, 2, 3], [4, 5, 6], [7, 8, 9]]])\n",
    "arr[0][1]"
   ]
  },
  {
   "cell_type": "code",
   "execution_count": 47,
   "id": "6525b8a2-f51f-4136-9f54-420263b91566",
   "metadata": {},
   "outputs": [
    {
     "name": "stdout",
     "output_type": "stream",
     "text": [
      "[1, 2, 3, 4]\n"
     ]
    }
   ],
   "source": [
    "s = {1,2,4,5}\n",
    "l =[]\n",
    "\n",
    "for i in range(len(s)):\n",
    "  l +=[1+i]\n",
    "print(l)"
   ]
  },
  {
   "cell_type": "code",
   "execution_count": null,
   "id": "2847c901-d86b-4294-92c2-5b119ab8fca1",
   "metadata": {},
   "outputs": [],
   "source": []
  }
 ],
 "metadata": {
  "kernelspec": {
   "display_name": "Python 3 (ipykernel)",
   "language": "python",
   "name": "python3"
  },
  "language_info": {
   "codemirror_mode": {
    "name": "ipython",
    "version": 3
   },
   "file_extension": ".py",
   "mimetype": "text/x-python",
   "name": "python",
   "nbconvert_exporter": "python",
   "pygments_lexer": "ipython3",
   "version": "3.12.6"
  }
 },
 "nbformat": 4,
 "nbformat_minor": 5
}
