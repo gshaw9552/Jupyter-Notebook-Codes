{
 "cells": [
  {
   "cell_type": "code",
   "execution_count": 1,
   "id": "c91df3f1-fa58-44d2-b650-6db1395004e8",
   "metadata": {},
   "outputs": [],
   "source": [
    "import numpy as np"
   ]
  },
  {
   "cell_type": "code",
   "execution_count": 2,
   "id": "722b0fe3-59cb-4aac-a622-3dc61a436af1",
   "metadata": {},
   "outputs": [],
   "source": [
    "# Truth Table\n",
    "inputs = np.array([[0, 0], [0, 1], [1, 0], [1, 1]])\n",
    "outputs = np.array([[0], [1], [1], [1]])"
   ]
  },
  {
   "cell_type": "code",
   "execution_count": 3,
   "id": "db1bbd99-c7ae-4d79-b3ae-c29afd981a21",
   "metadata": {},
   "outputs": [],
   "source": [
    "# Initializing Weights and Bias\n",
    "np.random.seed(43)\n",
    "weights = np.random.rand(2, 1)\n",
    "bias = np.random.rand(1)\n",
    "learning_rate = 0.2"
   ]
  },
  {
   "cell_type": "code",
   "execution_count": 4,
   "id": "d54a49fd-33f4-453f-b52e-190bb5142153",
   "metadata": {},
   "outputs": [],
   "source": [
    "# Defining Activation Function\n",
    "def sigmoidActivation(x):\n",
    "    return 1 / (1 + np.exp(-x))\n",
    "def sigmoidDerivative(sigmoid):\n",
    "    return sigmoid * (1 - sigmoid) "
   ]
  },
  {
   "cell_type": "code",
   "execution_count": 5,
   "id": "87859e71-46ef-4be5-b335-ecb5682f03e6",
   "metadata": {},
   "outputs": [
    {
     "name": "stdout",
     "output_type": "stream",
     "text": [
      "Epoch 0\n",
      "Loss:  0.0836421218462207\n",
      "Epoch 1000\n",
      "Loss:  0.0040651754957007884\n",
      "Epoch 2000\n",
      "Loss:  0.0018534594754092979\n",
      "Epoch 3000\n",
      "Loss:  0.0011784383784895882\n",
      "Epoch 4000\n",
      "Loss:  0.0008580303112230486\n",
      "Epoch 5000\n",
      "Loss:  0.0006723809111077268\n",
      "Epoch 6000\n",
      "Loss:  0.0005517280718164974\n",
      "Epoch 7000\n",
      "Loss:  0.0004672234923197296\n",
      "Epoch 8000\n",
      "Loss:  0.00040483434125188826\n",
      "Epoch 9000\n",
      "Loss:  0.00035693458576259527\n",
      "Epoch 10000\n",
      "Loss:  0.0003190311241778797\n"
     ]
    }
   ],
   "source": [
    "# Traing the model\n",
    "for epoch in range(10001):\n",
    "    # Forward Bias\n",
    "    z = np.dot(inputs, weights) + bias\n",
    "    predictions = sigmoidActivation(z)\n",
    "\n",
    "    # Compute Loss(MSE)\n",
    "    loss = (1/2) * (predictions - outputs) ** 2\n",
    "\n",
    "    # BackPropagation\n",
    "    d_loss = predictions - outputs\n",
    "    d_pred = d_loss * sigmoidDerivative(predictions)\n",
    "\n",
    "    # Gradient Descent\n",
    "    weights = weights - learning_rate * np.dot(inputs.T, d_pred)\n",
    "    bias = bias - learning_rate * np.sum(d_pred)\n",
    "\n",
    "    # Optionally print loss to see the progress\n",
    "    if epoch % 1000 == 0:\n",
    "        print('Epoch', epoch)\n",
    "        print(\"Loss: \", np.mean(loss))"
   ]
  },
  {
   "cell_type": "code",
   "execution_count": 6,
   "id": "f827a27e-624b-4a9c-937b-c424714fbdd2",
   "metadata": {},
   "outputs": [
    {
     "name": "stdout",
     "output_type": "stream",
     "text": [
      "Weights after training: [[6.95526955]\n",
      " [6.95528559]]\n",
      "Bias after training: [-3.23707637]\n",
      "Final predictions: [[0.]\n",
      " [1.]\n",
      " [1.]\n",
      " [1.]]\n"
     ]
    }
   ],
   "source": [
    "# Testing the model\n",
    "print(\"Weights after training:\", weights)\n",
    "print(\"Bias after training:\", bias)\n",
    "\n",
    "# Final Predictions\n",
    "final_predictions = sigmoidActivation(np.dot(inputs, weights) + bias)\n",
    "print(\"Final predictions:\", final_predictions.round())"
   ]
  },
  {
   "cell_type": "code",
   "execution_count": 13,
   "id": "d6625b6f-119c-42b1-b1cb-989051362c85",
   "metadata": {},
   "outputs": [
    {
     "data": {
      "text/plain": [
       "array([[2.59763170e-05],\n",
       "       [6.50091944e-06],\n",
       "       [6.50122257e-06],\n",
       "       [6.20646836e-15]])"
      ]
     },
     "execution_count": 13,
     "metadata": {},
     "output_type": "execute_result"
    }
   ],
   "source": [
    "predictions = sigmoidActivation(z)\n",
    "d_loss = (1/2) * (predictions - outputs) ** 2\n",
    "d_loss * sigmoidDerivative(predictions)"
   ]
  },
  {
   "cell_type": "code",
   "execution_count": null,
   "id": "ffc38ae5-3f3b-4a48-89a6-8925a8c0b051",
   "metadata": {},
   "outputs": [],
   "source": []
  }
 ],
 "metadata": {
  "kernelspec": {
   "display_name": "Python 3 (ipykernel)",
   "language": "python",
   "name": "python3"
  },
  "language_info": {
   "codemirror_mode": {
    "name": "ipython",
    "version": 3
   },
   "file_extension": ".py",
   "mimetype": "text/x-python",
   "name": "python",
   "nbconvert_exporter": "python",
   "pygments_lexer": "ipython3",
   "version": "3.12.6"
  }
 },
 "nbformat": 4,
 "nbformat_minor": 5
}
