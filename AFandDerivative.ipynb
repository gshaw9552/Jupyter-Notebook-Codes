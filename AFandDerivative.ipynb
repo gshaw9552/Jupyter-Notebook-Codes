{
 "cells": [
  {
   "cell_type": "code",
   "execution_count": 1,
   "id": "4a7e3bf4-e45b-4673-949b-8efac1529ec9",
   "metadata": {},
   "outputs": [],
   "source": [
    "import numpy as np"
   ]
  },
  {
   "cell_type": "code",
   "execution_count": 2,
   "id": "6223a93e-133a-4bb7-9b58-a0e269d738e8",
   "metadata": {},
   "outputs": [],
   "source": [
    "def linearActivation(x):\n",
    "    return x"
   ]
  },
  {
   "cell_type": "code",
   "execution_count": 3,
   "id": "59903168-79e7-423b-a883-bc2fe6304a92",
   "metadata": {},
   "outputs": [],
   "source": [
    "def reluActivation(x):\n",
    "    return np.maximum(0, x)"
   ]
  },
  {
   "cell_type": "code",
   "execution_count": 4,
   "id": "e3b0b487-0d91-4206-a0bd-006a58220a76",
   "metadata": {},
   "outputs": [],
   "source": [
    "def leakyReluActivation(x, alpha = 0.01):\n",
    "    return np.where(x > 0, x, alpha * x)"
   ]
  },
  {
   "cell_type": "code",
   "execution_count": 5,
   "id": "ce32b564-9506-49e4-9f92-dfc96610781e",
   "metadata": {},
   "outputs": [],
   "source": [
    "def linearDerivative(x):\n",
    "    return np.ones_like(x)"
   ]
  },
  {
   "cell_type": "code",
   "execution_count": 6,
   "id": "a8819c76-cf8c-46c0-999c-6e65ac33eead",
   "metadata": {},
   "outputs": [],
   "source": [
    "def reluDerivative(x):\n",
    "    return np.where(x > 0, 1, 0)"
   ]
  },
  {
   "cell_type": "code",
   "execution_count": 7,
   "id": "585fdc2d-56a6-47a0-95f1-89578e9a574e",
   "metadata": {},
   "outputs": [],
   "source": [
    "def leakyReluDerivative(x, alpha = 0.01):\n",
    "    return np.where(x > 0, 1, alpha)"
   ]
  },
  {
   "cell_type": "code",
   "execution_count": 8,
   "id": "1e9eea03-3416-4070-a0c4-68e7403f5397",
   "metadata": {},
   "outputs": [],
   "source": [
    "def logSigmoidActivation(x):\n",
    "    return 1 / (1 + np.exp(-x))"
   ]
  },
  {
   "cell_type": "code",
   "execution_count": 9,
   "id": "e5345b25-fe70-4e2e-87c8-4c941829ef90",
   "metadata": {},
   "outputs": [],
   "source": [
    "def logSigmoidDerivative(x):\n",
    "    sigmoid = logSigmoidActivation(x)\n",
    "    return sigmoid * (1 - sigmoid)"
   ]
  },
  {
   "cell_type": "code",
   "execution_count": 10,
   "id": "9c968fa5-6444-4ab0-8c74-1447c0db02db",
   "metadata": {},
   "outputs": [],
   "source": [
    "def tanSigmoidActivation(x):\n",
    "    return np.tanh(x)"
   ]
  },
  {
   "cell_type": "code",
   "execution_count": 11,
   "id": "f8dd8f72-4587-4e5a-83db-dd4c495ad36f",
   "metadata": {},
   "outputs": [],
   "source": [
    "def tanSigmoidDerivative(x):\n",
    "    return 1 - np.tanh(x)**2"
   ]
  },
  {
   "cell_type": "code",
   "execution_count": 12,
   "id": "3db2e6a2-6e27-464e-a514-b0fc288b8935",
   "metadata": {},
   "outputs": [],
   "source": [
    "x = np.array([-2.0, -1.0, 0.0, 1.0, 2.0])"
   ]
  },
  {
   "cell_type": "code",
   "execution_count": 13,
   "id": "3d59b255-0a75-42dd-a68a-688111974825",
   "metadata": {},
   "outputs": [
    {
     "name": "stdout",
     "output_type": "stream",
     "text": [
      "Linear AF\n",
      "Activation:  [-2. -1.  0.  1.  2.]\n",
      "Derivative:  [1. 1. 1. 1. 1.]\n"
     ]
    }
   ],
   "source": [
    "print(\"Linear AF\")\n",
    "activation = linearActivation(x)\n",
    "derivative = linearDerivative(x)\n",
    "print(\"Activation: \", activation)\n",
    "print(\"Derivative: \", derivative)"
   ]
  },
  {
   "cell_type": "code",
   "execution_count": 14,
   "id": "b461919e-bb1f-493a-a689-ffbe87e76401",
   "metadata": {},
   "outputs": [
    {
     "name": "stdout",
     "output_type": "stream",
     "text": [
      "ReLU(Rectified Linear Unit) AF\n",
      "Activation:  [0. 0. 0. 1. 2.]\n",
      "Derivative:  [0 0 0 1 1]\n"
     ]
    }
   ],
   "source": [
    "print(\"ReLU(Rectified Linear Unit) AF\")\n",
    "activation = reluActivation(x)\n",
    "derivative = reluDerivative(x)\n",
    "print(\"Activation: \", activation)\n",
    "print(\"Derivative: \", derivative)"
   ]
  },
  {
   "cell_type": "code",
   "execution_count": 15,
   "id": "50bdf3ef-2b6f-42ec-9e11-8360449e1d4b",
   "metadata": {},
   "outputs": [
    {
     "name": "stdout",
     "output_type": "stream",
     "text": [
      "Leaky ReLU AF\n",
      "Activation:  [-0.02 -0.01  0.    1.    2.  ]\n",
      "Derivative:  [0.01 0.01 0.01 1.   1.  ]\n"
     ]
    }
   ],
   "source": [
    "print(\"Leaky ReLU AF\")\n",
    "activation = leakyReluActivation(x)\n",
    "derivative = leakyReluDerivative(x)\n",
    "print(\"Activation: \", activation)\n",
    "print(\"Derivative: \", derivative)"
   ]
  },
  {
   "cell_type": "code",
   "execution_count": 16,
   "id": "eaa25826-1543-4a21-91d7-fbf97653edb2",
   "metadata": {},
   "outputs": [
    {
     "name": "stdout",
     "output_type": "stream",
     "text": [
      "Log Sigmoid AF\n",
      "Activation:  [0.11920292 0.26894142 0.5        0.73105858 0.88079708]\n",
      "Derivative:  [0.10499359 0.19661193 0.25       0.19661193 0.10499359]\n"
     ]
    }
   ],
   "source": [
    "print(\"Log Sigmoid AF\")\n",
    "activation = logSigmoidActivation(x)\n",
    "derivative = logSigmoidDerivative(x)\n",
    "print(\"Activation: \", activation)\n",
    "print(\"Derivative: \", derivative)"
   ]
  },
  {
   "cell_type": "code",
   "execution_count": 17,
   "id": "411ad499-d4b4-4187-9721-d954575e6ac6",
   "metadata": {},
   "outputs": [
    {
     "name": "stdout",
     "output_type": "stream",
     "text": [
      "Tan Sigmoid AF\n",
      "Activation:  [-0.96402758 -0.76159416  0.          0.76159416  0.96402758]\n",
      "Derivative:  [0.07065082 0.41997434 1.         0.41997434 0.07065082]\n"
     ]
    }
   ],
   "source": [
    "print(\"Tan Sigmoid AF\")\n",
    "activation = tanSigmoidActivation(x)\n",
    "derivative = tanSigmoidDerivative(x)\n",
    "print(\"Activation: \", activation)\n",
    "print(\"Derivative: \", derivative)"
   ]
  }
 ],
 "metadata": {
  "kernelspec": {
   "display_name": "Python 3 (ipykernel)",
   "language": "python",
   "name": "python3"
  },
  "language_info": {
   "codemirror_mode": {
    "name": "ipython",
    "version": 3
   },
   "file_extension": ".py",
   "mimetype": "text/x-python",
   "name": "python",
   "nbconvert_exporter": "python",
   "pygments_lexer": "ipython3",
   "version": "3.12.6"
  }
 },
 "nbformat": 4,
 "nbformat_minor": 5
}
