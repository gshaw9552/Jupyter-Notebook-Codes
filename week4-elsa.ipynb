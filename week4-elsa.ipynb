{
 "cells": [
  {
   "cell_type": "code",
   "execution_count": 1,
   "id": "d7471db4-e451-4437-8a82-3f5d1b9af303",
   "metadata": {},
   "outputs": [],
   "source": [
    "import pandas as pd\n",
    "import numpy as np\n",
    "import matplotlib.pyplot as plt\n",
    "import seaborn as sns\n",
    "import sklearn\n",
    "\n",
    "from sklearn.model_selection import train_test_split\n",
    "from sklearn.linear_model import LogisticRegression\n",
    "from sklearn.metrics import accuracy_score, confusion_matrix, classification_report\n",
    "from sklearn.preprocessing import StandardScaler"
   ]
  },
  {
   "cell_type": "code",
   "execution_count": 2,
   "id": "7d7e5519-ca97-4230-8005-a80074f78a20",
   "metadata": {},
   "outputs": [],
   "source": [
    "data = pd.read_excel(\"CreditWorthiness.xlsx\")"
   ]
  },
  {
   "cell_type": "code",
   "execution_count": 3,
   "id": "705ca9cc-65bf-47f7-964d-e69630e275f8",
   "metadata": {},
   "outputs": [
    {
     "data": {
      "text/plain": [
       "Index(['Cbal', 'Cdur', 'Chist', 'Cpur', 'Camt', 'Sbal', 'Edur', 'InRate',\n",
       "       'MSG', 'Oparties', 'Rdur', 'Prop', 'age', 'inPlans', 'Htype', 'NumCred',\n",
       "       'JobType', 'Ndepend', 'telephone', 'foreign', 'creditScore'],\n",
       "      dtype='object')"
      ]
     },
     "execution_count": 3,
     "metadata": {},
     "output_type": "execute_result"
    }
   ],
   "source": [
    "data.columns"
   ]
  },
  {
   "cell_type": "code",
   "execution_count": 4,
   "id": "7cbeaead-ea4a-45e3-b2f3-42d0ee36b980",
   "metadata": {},
   "outputs": [
    {
     "data": {
      "text/plain": [
       "Sbal\n",
       "Rs. < 1000              603\n",
       "no savings account      183\n",
       "1000 <= Rs. < 5,000     103\n",
       "5000 <= Rs. < 10,000     63\n",
       "Rs. >= 10,000            48\n",
       "Name: count, dtype: int64"
      ]
     },
     "execution_count": 4,
     "metadata": {},
     "output_type": "execute_result"
    }
   ],
   "source": [
    "data['Sbal'].value_counts()"
   ]
  },
  {
   "cell_type": "code",
   "execution_count": 5,
   "id": "b54df73f-daef-46ae-9bc6-8098d579cec3",
   "metadata": {},
   "outputs": [
    {
     "data": {
      "text/plain": [
       "5"
      ]
     },
     "execution_count": 5,
     "metadata": {},
     "output_type": "execute_result"
    }
   ],
   "source": [
    "data['Sbal'].nunique()"
   ]
  },
  {
   "cell_type": "code",
   "execution_count": 6,
   "id": "321545ba-ba06-452e-ac1b-2ff6cc5805cf",
   "metadata": {},
   "outputs": [
    {
     "data": {
      "text/plain": [
       "Chist\n",
       "all settled till now      618\n",
       "dues not paid earlier     293\n",
       "all settled                49\n",
       "none taken/all settled     40\n",
       "Name: count, dtype: int64"
      ]
     },
     "execution_count": 6,
     "metadata": {},
     "output_type": "execute_result"
    }
   ],
   "source": [
    "data['Chist'].value_counts()"
   ]
  },
  {
   "cell_type": "code",
   "execution_count": 7,
   "id": "c5a6901b-bdac-4bf1-963e-34386c1a80a3",
   "metadata": {},
   "outputs": [],
   "source": [
    "filtered_df = data[data['Chist'] == 'dues not paid earlier']"
   ]
  },
  {
   "cell_type": "code",
   "execution_count": 8,
   "id": "02851fb9-5b65-4c7f-a633-8990b58da06a",
   "metadata": {},
   "outputs": [
    {
     "data": {
      "text/plain": [
       "np.float64(38.436860068259385)"
      ]
     },
     "execution_count": 8,
     "metadata": {},
     "output_type": "execute_result"
    }
   ],
   "source": [
    "filtered_df['age'].mean()"
   ]
  },
  {
   "cell_type": "code",
   "execution_count": 9,
   "id": "f3acffae-bfab-4113-a7eb-b1cdae48869a",
   "metadata": {},
   "outputs": [],
   "source": [
    "data = pd.read_excel(\"CreditWorthiness_full.xlsx\", sheet_name = 'Data')"
   ]
  },
  {
   "cell_type": "code",
   "execution_count": 10,
   "id": "816eba56-72b1-4574-be5e-4d72a483f815",
   "metadata": {},
   "outputs": [],
   "source": [
    "data['creditScore'] = data['creditScore'].map({'good':1, 'bad':0})"
   ]
  },
  {
   "cell_type": "code",
   "execution_count": 11,
   "id": "3607f36c-8eb0-483d-89e4-1adca316fdcf",
   "metadata": {},
   "outputs": [
    {
     "data": {
      "text/html": [
       "<div>\n",
       "<style scoped>\n",
       "    .dataframe tbody tr th:only-of-type {\n",
       "        vertical-align: middle;\n",
       "    }\n",
       "\n",
       "    .dataframe tbody tr th {\n",
       "        vertical-align: top;\n",
       "    }\n",
       "\n",
       "    .dataframe thead th {\n",
       "        text-align: right;\n",
       "    }\n",
       "</style>\n",
       "<table border=\"1\" class=\"dataframe\">\n",
       "  <thead>\n",
       "    <tr style=\"text-align: right;\">\n",
       "      <th></th>\n",
       "      <th>Cbal</th>\n",
       "      <th>Cdur</th>\n",
       "      <th>Chist</th>\n",
       "      <th>Cpur</th>\n",
       "      <th>Camt</th>\n",
       "      <th>Sbal</th>\n",
       "      <th>Edur</th>\n",
       "      <th>InRate</th>\n",
       "      <th>MSG</th>\n",
       "      <th>Oparties</th>\n",
       "      <th>...</th>\n",
       "      <th>Prop</th>\n",
       "      <th>age</th>\n",
       "      <th>inPlans</th>\n",
       "      <th>Htype</th>\n",
       "      <th>NumCred</th>\n",
       "      <th>JobType</th>\n",
       "      <th>Ndepend</th>\n",
       "      <th>telephone</th>\n",
       "      <th>foreign</th>\n",
       "      <th>creditScore</th>\n",
       "    </tr>\n",
       "  </thead>\n",
       "  <tbody>\n",
       "    <tr>\n",
       "      <th>0</th>\n",
       "      <td>0 &lt;= Rs. &lt; 2000</td>\n",
       "      <td>9</td>\n",
       "      <td>all settled till now</td>\n",
       "      <td>Business</td>\n",
       "      <td>13790</td>\n",
       "      <td>Rs. &lt; 1000</td>\n",
       "      <td>1 to 4 years</td>\n",
       "      <td>2</td>\n",
       "      <td>married or widowed male</td>\n",
       "      <td>no one</td>\n",
       "      <td>...</td>\n",
       "      <td>real estate</td>\n",
       "      <td>27</td>\n",
       "      <td>bank</td>\n",
       "      <td>own</td>\n",
       "      <td>1</td>\n",
       "      <td>employee with official position</td>\n",
       "      <td>1</td>\n",
       "      <td>yes</td>\n",
       "      <td>no</td>\n",
       "      <td>1</td>\n",
       "    </tr>\n",
       "    <tr>\n",
       "      <th>1</th>\n",
       "      <td>0 &lt;= Rs. &lt; 2000</td>\n",
       "      <td>15</td>\n",
       "      <td>dues not paid earlier</td>\n",
       "      <td>electronics</td>\n",
       "      <td>15250</td>\n",
       "      <td>no savings account</td>\n",
       "      <td>more than 7 years</td>\n",
       "      <td>4</td>\n",
       "      <td>single male</td>\n",
       "      <td>yes, guarantor</td>\n",
       "      <td>...</td>\n",
       "      <td>real estate</td>\n",
       "      <td>50</td>\n",
       "      <td>none</td>\n",
       "      <td>own</td>\n",
       "      <td>2</td>\n",
       "      <td>employee with official position</td>\n",
       "      <td>1</td>\n",
       "      <td>yes</td>\n",
       "      <td>no</td>\n",
       "      <td>1</td>\n",
       "    </tr>\n",
       "    <tr>\n",
       "      <th>2</th>\n",
       "      <td>0 &lt;= Rs. &lt; 2000</td>\n",
       "      <td>36</td>\n",
       "      <td>none taken/all settled</td>\n",
       "      <td>Business</td>\n",
       "      <td>19410</td>\n",
       "      <td>Rs. &lt; 1000</td>\n",
       "      <td>more than 7 years</td>\n",
       "      <td>4</td>\n",
       "      <td>single male</td>\n",
       "      <td>no one</td>\n",
       "      <td>...</td>\n",
       "      <td>Unknown</td>\n",
       "      <td>61</td>\n",
       "      <td>none</td>\n",
       "      <td>free</td>\n",
       "      <td>1</td>\n",
       "      <td>employed either in management, self or in high...</td>\n",
       "      <td>1</td>\n",
       "      <td>yes</td>\n",
       "      <td>no</td>\n",
       "      <td>0</td>\n",
       "    </tr>\n",
       "    <tr>\n",
       "      <th>3</th>\n",
       "      <td>0 &lt;= Rs. &lt; 2000</td>\n",
       "      <td>48</td>\n",
       "      <td>none taken/all settled</td>\n",
       "      <td>Business</td>\n",
       "      <td>144090</td>\n",
       "      <td>Rs. &lt; 1000</td>\n",
       "      <td>1 to 4 years</td>\n",
       "      <td>2</td>\n",
       "      <td>single male</td>\n",
       "      <td>no one</td>\n",
       "      <td>...</td>\n",
       "      <td>Other cars etc.</td>\n",
       "      <td>25</td>\n",
       "      <td>none</td>\n",
       "      <td>own</td>\n",
       "      <td>1</td>\n",
       "      <td>employee with official position</td>\n",
       "      <td>1</td>\n",
       "      <td>yes</td>\n",
       "      <td>no</td>\n",
       "      <td>0</td>\n",
       "    </tr>\n",
       "    <tr>\n",
       "      <th>4</th>\n",
       "      <td>no checking account</td>\n",
       "      <td>24</td>\n",
       "      <td>all settled till now</td>\n",
       "      <td>electronics</td>\n",
       "      <td>31690</td>\n",
       "      <td>Rs. &lt; 1000</td>\n",
       "      <td>less than 1 year</td>\n",
       "      <td>4</td>\n",
       "      <td>divorced or separated or married female</td>\n",
       "      <td>no one</td>\n",
       "      <td>...</td>\n",
       "      <td>life insurance/building society</td>\n",
       "      <td>26</td>\n",
       "      <td>none</td>\n",
       "      <td>own</td>\n",
       "      <td>1</td>\n",
       "      <td>employee with official position</td>\n",
       "      <td>1</td>\n",
       "      <td>yes</td>\n",
       "      <td>no</td>\n",
       "      <td>1</td>\n",
       "    </tr>\n",
       "  </tbody>\n",
       "</table>\n",
       "<p>5 rows × 21 columns</p>\n",
       "</div>"
      ],
      "text/plain": [
       "                  Cbal  Cdur                   Chist         Cpur    Camt  \\\n",
       "0      0 <= Rs. < 2000     9    all settled till now     Business   13790   \n",
       "1      0 <= Rs. < 2000    15   dues not paid earlier  electronics   15250   \n",
       "2      0 <= Rs. < 2000    36  none taken/all settled     Business   19410   \n",
       "3      0 <= Rs. < 2000    48  none taken/all settled     Business  144090   \n",
       "4  no checking account    24    all settled till now  electronics   31690   \n",
       "\n",
       "                 Sbal               Edur  InRate  \\\n",
       "0          Rs. < 1000       1 to 4 years       2   \n",
       "1  no savings account  more than 7 years       4   \n",
       "2          Rs. < 1000  more than 7 years       4   \n",
       "3          Rs. < 1000       1 to 4 years       2   \n",
       "4          Rs. < 1000   less than 1 year       4   \n",
       "\n",
       "                                       MSG        Oparties  ...  \\\n",
       "0                  married or widowed male          no one  ...   \n",
       "1                              single male  yes, guarantor  ...   \n",
       "2                              single male          no one  ...   \n",
       "3                              single male          no one  ...   \n",
       "4  divorced or separated or married female          no one  ...   \n",
       "\n",
       "                              Prop age  inPlans Htype NumCred  \\\n",
       "0                      real estate  27     bank   own       1   \n",
       "1                      real estate  50     none   own       2   \n",
       "2                          Unknown  61     none  free       1   \n",
       "3                  Other cars etc.  25     none   own       1   \n",
       "4  life insurance/building society  26     none   own       1   \n",
       "\n",
       "                                             JobType Ndepend  telephone  \\\n",
       "0                    employee with official position       1        yes   \n",
       "1                    employee with official position       1        yes   \n",
       "2  employed either in management, self or in high...       1        yes   \n",
       "3                    employee with official position       1        yes   \n",
       "4                    employee with official position       1        yes   \n",
       "\n",
       "  foreign creditScore  \n",
       "0      no           1  \n",
       "1      no           1  \n",
       "2      no           0  \n",
       "3      no           0  \n",
       "4      no           1  \n",
       "\n",
       "[5 rows x 21 columns]"
      ]
     },
     "execution_count": 11,
     "metadata": {},
     "output_type": "execute_result"
    }
   ],
   "source": [
    "data.head()"
   ]
  },
  {
   "cell_type": "code",
   "execution_count": 12,
   "id": "053d72f1-1846-4862-9db5-0a0d3eaa07bc",
   "metadata": {},
   "outputs": [
    {
     "data": {
      "text/plain": [
       "Index(['Cbal', 'Cdur', 'Chist', 'Cpur', 'Camt', 'Sbal', 'Edur', 'InRate',\n",
       "       'MSG', 'Oparties', 'Rdur', 'Prop', 'age', 'inPlans', 'Htype', 'NumCred',\n",
       "       'JobType', 'Ndepend', 'telephone', 'foreign', 'creditScore'],\n",
       "      dtype='object')"
      ]
     },
     "execution_count": 12,
     "metadata": {},
     "output_type": "execute_result"
    }
   ],
   "source": [
    "data.columns"
   ]
  },
  {
   "cell_type": "code",
   "execution_count": 13,
   "id": "44873d9b-544b-4255-a89a-2d7cf14c6f53",
   "metadata": {},
   "outputs": [],
   "source": [
    "X = pd.get_dummies(data.drop(columns = ['creditScore']), drop_first = True)\n",
    "Y = data['creditScore']"
   ]
  },
  {
   "cell_type": "code",
   "execution_count": 14,
   "id": "bda79b4a-3069-4ba5-b6c0-959655dcb012",
   "metadata": {},
   "outputs": [
    {
     "data": {
      "text/plain": [
       "Index(['Cdur', 'Camt', 'InRate', 'age', 'NumCred', 'Ndepend',\n",
       "       'Cbal_0 <= Rs. < 2000', 'Cbal_Rs. >=2000', 'Cbal_no checking account',\n",
       "       'Chist_all settled till now', 'Chist_dues not paid earlier',\n",
       "       'Chist_none taken/all settled', 'Cpur_domestic needs', 'Cpur_education',\n",
       "       'Cpur_electronics', 'Cpur_furniture', 'Cpur_miscellaneous',\n",
       "       'Cpur_new vehicle', 'Cpur_renovation', 'Cpur_retaining',\n",
       "       'Cpur_second hand vehicle', 'Sbal_5000 <= Rs. < 10,000',\n",
       "       'Sbal_Rs. < 1000', 'Sbal_Rs. >= 10,000', 'Sbal_no savings account',\n",
       "       'Edur_4 to 7 years', 'Edur_less than 1 year', 'Edur_more than 7 years',\n",
       "       'Edur_not employed', 'MSG_divorced or separated or married female',\n",
       "       'MSG_married or widowed male', 'MSG_single male',\n",
       "       'Oparties_yes, co-applicant', 'Oparties_yes, guarantor',\n",
       "       'Rdur_2 to 3 years', 'Rdur_less than a year', 'Rdur_more than 3 years',\n",
       "       'Prop_Unknown', 'Prop_life insurance/building society',\n",
       "       'Prop_real estate', 'inPlans_none', 'inPlans_stores', 'Htype_own',\n",
       "       'Htype_pays rent', 'JobType_employee with official position',\n",
       "       'JobType_non resident either unemployed or  unskilled ',\n",
       "       'JobType_resident unskilled', 'telephone_yes', 'foreign_yes'],\n",
       "      dtype='object')"
      ]
     },
     "execution_count": 14,
     "metadata": {},
     "output_type": "execute_result"
    }
   ],
   "source": [
    "X.columns"
   ]
  },
  {
   "cell_type": "code",
   "execution_count": 15,
   "id": "57f1c8ce-7f1f-4ac5-bbc7-5e59f6dc10f9",
   "metadata": {},
   "outputs": [
    {
     "data": {
      "text/html": [
       "<div>\n",
       "<style scoped>\n",
       "    .dataframe tbody tr th:only-of-type {\n",
       "        vertical-align: middle;\n",
       "    }\n",
       "\n",
       "    .dataframe tbody tr th {\n",
       "        vertical-align: top;\n",
       "    }\n",
       "\n",
       "    .dataframe thead th {\n",
       "        text-align: right;\n",
       "    }\n",
       "</style>\n",
       "<table border=\"1\" class=\"dataframe\">\n",
       "  <thead>\n",
       "    <tr style=\"text-align: right;\">\n",
       "      <th></th>\n",
       "      <th>Cdur</th>\n",
       "      <th>Camt</th>\n",
       "      <th>InRate</th>\n",
       "      <th>age</th>\n",
       "      <th>NumCred</th>\n",
       "      <th>Ndepend</th>\n",
       "      <th>creditScore</th>\n",
       "    </tr>\n",
       "  </thead>\n",
       "  <tbody>\n",
       "    <tr>\n",
       "      <th>count</th>\n",
       "      <td>1000.000000</td>\n",
       "      <td>1000.00000</td>\n",
       "      <td>1000.000000</td>\n",
       "      <td>1000.000000</td>\n",
       "      <td>1000.000000</td>\n",
       "      <td>1000.000000</td>\n",
       "      <td>1000.000000</td>\n",
       "    </tr>\n",
       "    <tr>\n",
       "      <th>mean</th>\n",
       "      <td>20.903000</td>\n",
       "      <td>32592.58000</td>\n",
       "      <td>2.973000</td>\n",
       "      <td>35.546000</td>\n",
       "      <td>1.407000</td>\n",
       "      <td>1.155000</td>\n",
       "      <td>0.700000</td>\n",
       "    </tr>\n",
       "    <tr>\n",
       "      <th>std</th>\n",
       "      <td>12.058814</td>\n",
       "      <td>28227.36876</td>\n",
       "      <td>1.118715</td>\n",
       "      <td>11.375469</td>\n",
       "      <td>0.577654</td>\n",
       "      <td>0.362086</td>\n",
       "      <td>0.458487</td>\n",
       "    </tr>\n",
       "    <tr>\n",
       "      <th>min</th>\n",
       "      <td>4.000000</td>\n",
       "      <td>2380.00000</td>\n",
       "      <td>1.000000</td>\n",
       "      <td>19.000000</td>\n",
       "      <td>1.000000</td>\n",
       "      <td>1.000000</td>\n",
       "      <td>0.000000</td>\n",
       "    </tr>\n",
       "    <tr>\n",
       "      <th>25%</th>\n",
       "      <td>12.000000</td>\n",
       "      <td>13535.00000</td>\n",
       "      <td>2.000000</td>\n",
       "      <td>27.000000</td>\n",
       "      <td>1.000000</td>\n",
       "      <td>1.000000</td>\n",
       "      <td>0.000000</td>\n",
       "    </tr>\n",
       "    <tr>\n",
       "      <th>50%</th>\n",
       "      <td>18.000000</td>\n",
       "      <td>23075.00000</td>\n",
       "      <td>3.000000</td>\n",
       "      <td>33.000000</td>\n",
       "      <td>1.000000</td>\n",
       "      <td>1.000000</td>\n",
       "      <td>1.000000</td>\n",
       "    </tr>\n",
       "    <tr>\n",
       "      <th>75%</th>\n",
       "      <td>24.000000</td>\n",
       "      <td>39602.50000</td>\n",
       "      <td>4.000000</td>\n",
       "      <td>42.000000</td>\n",
       "      <td>2.000000</td>\n",
       "      <td>1.000000</td>\n",
       "      <td>1.000000</td>\n",
       "    </tr>\n",
       "    <tr>\n",
       "      <th>max</th>\n",
       "      <td>72.000000</td>\n",
       "      <td>184120.00000</td>\n",
       "      <td>4.000000</td>\n",
       "      <td>75.000000</td>\n",
       "      <td>4.000000</td>\n",
       "      <td>2.000000</td>\n",
       "      <td>1.000000</td>\n",
       "    </tr>\n",
       "  </tbody>\n",
       "</table>\n",
       "</div>"
      ],
      "text/plain": [
       "              Cdur          Camt       InRate          age      NumCred  \\\n",
       "count  1000.000000    1000.00000  1000.000000  1000.000000  1000.000000   \n",
       "mean     20.903000   32592.58000     2.973000    35.546000     1.407000   \n",
       "std      12.058814   28227.36876     1.118715    11.375469     0.577654   \n",
       "min       4.000000    2380.00000     1.000000    19.000000     1.000000   \n",
       "25%      12.000000   13535.00000     2.000000    27.000000     1.000000   \n",
       "50%      18.000000   23075.00000     3.000000    33.000000     1.000000   \n",
       "75%      24.000000   39602.50000     4.000000    42.000000     2.000000   \n",
       "max      72.000000  184120.00000     4.000000    75.000000     4.000000   \n",
       "\n",
       "           Ndepend  creditScore  \n",
       "count  1000.000000  1000.000000  \n",
       "mean      1.155000     0.700000  \n",
       "std       0.362086     0.458487  \n",
       "min       1.000000     0.000000  \n",
       "25%       1.000000     0.000000  \n",
       "50%       1.000000     1.000000  \n",
       "75%       1.000000     1.000000  \n",
       "max       2.000000     1.000000  "
      ]
     },
     "execution_count": 15,
     "metadata": {},
     "output_type": "execute_result"
    }
   ],
   "source": [
    "data.describe()"
   ]
  },
  {
   "cell_type": "code",
   "execution_count": 16,
   "id": "e4ff4ee6-b758-49a4-a748-38097daaeb03",
   "metadata": {},
   "outputs": [],
   "source": [
    "train_x, test_x, train_y, test_y = train_test_split(X, Y, test_size = 0.25, random_state = 1)"
   ]
  },
  {
   "cell_type": "code",
   "execution_count": 17,
   "id": "8ef7b4b9-be6d-4a89-b1f1-76d14f655cb6",
   "metadata": {},
   "outputs": [],
   "source": [
    "logis_mod = LogisticRegression(max_iter = 10000)\n",
    "logis_mod.fit(train_x, train_y)\n",
    "prediction_log = logis_mod.predict(test_x)"
   ]
  },
  {
   "cell_type": "code",
   "execution_count": 18,
   "id": "a476956f-df72-4a58-a5fb-6080f31f5652",
   "metadata": {},
   "outputs": [
    {
     "name": "stdout",
     "output_type": "stream",
     "text": [
      "              precision    recall  f1-score   support\n",
      "\n",
      "           0       0.55      0.53      0.54        62\n",
      "           1       0.85      0.86      0.85       188\n",
      "\n",
      "    accuracy                           0.78       250\n",
      "   macro avg       0.70      0.69      0.70       250\n",
      "weighted avg       0.77      0.78      0.77       250\n",
      "\n"
     ]
    }
   ],
   "source": [
    "con = classification_report(test_y, prediction_log)\n",
    "print(con)"
   ]
  },
  {
   "cell_type": "code",
   "execution_count": 19,
   "id": "e40c07f8-f6c6-43df-b3a0-2f74b531b225",
   "metadata": {},
   "outputs": [
    {
     "name": "stdout",
     "output_type": "stream",
     "text": [
      "[[ 33  29]\n",
      " [ 27 161]]\n",
      "tp:  161 tn:  33 fp:  29 fn:  27\n"
     ]
    }
   ],
   "source": [
    "confusion_matrix_logr = confusion_matrix(test_y, prediction_log)\n",
    "tn, fp, fn, tp = confusion_matrix_logr.ravel()\n",
    "print(confusion_matrix_logr)\n",
    "print('tp: ', tp, 'tn: ', tn, 'fp: ', fp, 'fn: ', fn)"
   ]
  },
  {
   "cell_type": "code",
   "execution_count": 20,
   "id": "f85cdf17-cdab-401a-9765-4182ced913c0",
   "metadata": {},
   "outputs": [
    {
     "name": "stdout",
     "output_type": "stream",
     "text": [
      "77.6\n"
     ]
    }
   ],
   "source": [
    "acc_score_logr = accuracy_score(test_y, prediction_log)\n",
    "print(round(acc_score_logr * 100, 2))"
   ]
  },
  {
   "cell_type": "code",
   "execution_count": 21,
   "id": "2bf2ab5a-0de7-48d6-8feb-00920f66bfaa",
   "metadata": {},
   "outputs": [
    {
     "name": "stdout",
     "output_type": "stream",
     "text": [
      "Precision is:  84.74 Recall is:  85.64 F1 Score is:  85.19\n"
     ]
    }
   ],
   "source": [
    "lr_precision = tp/(tp+fp)\n",
    "lr_recall = tp/(tp+fn)\n",
    "lr_f1_score = 2/(1/lr_precision + 1/lr_recall)\n",
    "print(\"Precision is: \", round(lr_precision*100, 2),\n",
    "      \"Recall is: \", round(lr_recall*100, 2),\n",
    "      \"F1 Score is: \", round(lr_f1_score*100, 2))\n"
   ]
  },
  {
   "cell_type": "code",
   "execution_count": 22,
   "id": "d234e7a9-85e5-4d72-92cb-d81cd1b2e5a9",
   "metadata": {},
   "outputs": [
    {
     "name": "stdout",
     "output_type": "stream",
     "text": [
      "Misclassified samples : 56\n"
     ]
    }
   ],
   "source": [
    "print(\"Misclassified samples : %d\"%(test_y != prediction_log).sum())"
   ]
  },
  {
   "cell_type": "code",
   "execution_count": 29,
   "id": "267679d4-8bd2-450f-8f26-2eda73a89f2f",
   "metadata": {},
   "outputs": [],
   "source": [
    "data1 = data.drop('creditScore', axis = 1)\n",
    "col_names = data1.describe().columns.tolist()\n",
    "features = train_x[col_names]\n",
    "scaler = StandardScaler().fit(features.values)\n",
    "features = scaler.transform(features.values)\n",
    "train_x.loc[:, col_names] = features.astype(float)"
   ]
  },
  {
   "cell_type": "code",
   "execution_count": 31,
   "id": "d2ef9919-2df9-48c8-8b6d-b45e34e5eafb",
   "metadata": {},
   "outputs": [],
   "source": [
    "features = test_x[col_names]\n",
    "features = scaler.transform(features.values)\n",
    "test_x.loc[:, col_names] = features"
   ]
  },
  {
   "cell_type": "code",
   "execution_count": 32,
   "id": "3f2ec279-ef92-4eda-b16a-4ee5c1902457",
   "metadata": {},
   "outputs": [],
   "source": [
    "logis_mod_stn = LogisticRegression(max_iter = 10000)\n",
    "logis_mod_stn.fit(train_x, train_y)\n",
    "prediction_log_stn = logis_mod_stn.predict(test_x)"
   ]
  },
  {
   "cell_type": "code",
   "execution_count": 33,
   "id": "a6c13471-d53e-40ba-b4d3-08b876101c7a",
   "metadata": {},
   "outputs": [
    {
     "name": "stdout",
     "output_type": "stream",
     "text": [
      "Misclassified samples : 188\n"
     ]
    }
   ],
   "source": [
    "print(\"Misclassified samples : %d\"%(test_y != prediction_log_stn).sum())"
   ]
  },
  {
   "cell_type": "code",
   "execution_count": 34,
   "id": "34f833fd-28f5-4434-96eb-a23a89930fd5",
   "metadata": {},
   "outputs": [
    {
     "data": {
      "text/plain": [
       "2.357142857142857"
      ]
     },
     "execution_count": 34,
     "metadata": {},
     "output_type": "execute_result"
    }
   ],
   "source": [
    "(188 - 56 )/ 56 "
   ]
  },
  {
   "cell_type": "code",
   "execution_count": null,
   "id": "10b77d27-ffc2-472f-9755-df05611e7e28",
   "metadata": {},
   "outputs": [],
   "source": []
  }
 ],
 "metadata": {
  "kernelspec": {
   "display_name": "Python 3 (ipykernel)",
   "language": "python",
   "name": "python3"
  },
  "language_info": {
   "codemirror_mode": {
    "name": "ipython",
    "version": 3
   },
   "file_extension": ".py",
   "mimetype": "text/x-python",
   "name": "python",
   "nbconvert_exporter": "python",
   "pygments_lexer": "ipython3",
   "version": "3.12.6"
  }
 },
 "nbformat": 4,
 "nbformat_minor": 5
}
