{
 "cells": [
  {
   "cell_type": "markdown",
   "id": "09a14108-5cfb-4b10-b08c-10b91ff7b1ee",
   "metadata": {},
   "source": [
    "## Sequence DataTypes Introduction"
   ]
  },
  {
   "cell_type": "code",
   "execution_count": 15,
   "id": "d3040fff-aa47-480b-8bf7-bfb91b7d9357",
   "metadata": {},
   "outputs": [],
   "source": [
    "from array import *\n",
    "\n",
    "arr = array('i', [1, 2, 3, 4])"
   ]
  },
  {
   "cell_type": "code",
   "execution_count": 16,
   "id": "3fb64b2a-582e-40b9-b649-347acb5ff943",
   "metadata": {},
   "outputs": [
    {
     "name": "stdout",
     "output_type": "stream",
     "text": [
      "array('i', [1, 2, 3, 4])\n"
     ]
    }
   ],
   "source": [
    "print(arr)"
   ]
  },
  {
   "cell_type": "code",
   "execution_count": 17,
   "id": "c437cafb-19b3-4289-beae-3dd206f06ff2",
   "metadata": {},
   "outputs": [
    {
     "name": "stdout",
     "output_type": "stream",
     "text": [
      "1\n",
      "2\n",
      "3\n",
      "4\n"
     ]
    }
   ],
   "source": [
    "for x in arr: print(x)"
   ]
  },
  {
   "cell_type": "code",
   "execution_count": 18,
   "id": "40ab274b-c736-4421-9dbc-a45e6794c11c",
   "metadata": {},
   "outputs": [
    {
     "name": "stdout",
     "output_type": "stream",
     "text": [
      "(1, 2, 3, 4, 'hi')\n"
     ]
    }
   ],
   "source": [
    "tupSample = (1, 2, 3, 4, 'hi')\n",
    "print(tupSample)"
   ]
  },
  {
   "cell_type": "code",
   "execution_count": 19,
   "id": "3d10e1bc-ae72-432e-87f2-3280129681bc",
   "metadata": {},
   "outputs": [
    {
     "name": "stdout",
     "output_type": "stream",
     "text": [
      "(1, 2, 'hello world')\n"
     ]
    }
   ],
   "source": [
    "tupleSample = 1, 2, 'hello world' #tuple packing\n",
    "print(tupleSample)"
   ]
  },
  {
   "cell_type": "code",
   "execution_count": 20,
   "id": "8fbc46f6-a3c5-4b3e-8c40-6744389ac322",
   "metadata": {},
   "outputs": [
    {
     "data": {
      "text/plain": [
       "{'first': 1, 'second': 2, 3: 3, 'four': 4, 5: 'six'}"
      ]
     },
     "execution_count": 20,
     "metadata": {},
     "output_type": "execute_result"
    }
   ],
   "source": [
    "dict_list = dict([('first',1), ('second',2), (3,3), ('four',4), (5, 'six')]) #dict(list of tuples)\n",
    "dict_list"
   ]
  },
  {
   "cell_type": "code",
   "execution_count": 21,
   "id": "cbb246fc-3de8-4beb-ae01-af9cb529a186",
   "metadata": {},
   "outputs": [
    {
     "name": "stdout",
     "output_type": "stream",
     "text": [
      "{1, 2.4, 'hello', 5, 6.9, 'world', (2+3j)}\n"
     ]
    },
    {
     "data": {
      "text/plain": [
       "{'e', 'h', 'l', 'o'}"
      ]
     },
     "execution_count": 21,
     "metadata": {},
     "output_type": "execute_result"
    }
   ],
   "source": [
    "setSample = {1, 2.4, 6.9, 'hello', 5, 'world', 2+3j} #set\n",
    "print(setSample)\n",
    "set('hello')"
   ]
  },
  {
   "cell_type": "code",
   "execution_count": 22,
   "id": "5465ec32-b28b-4201-a237-791fb775853f",
   "metadata": {},
   "outputs": [
    {
     "name": "stdout",
     "output_type": "stream",
     "text": [
      "range(1, 20, 4)\n",
      "1\n",
      "5\n",
      "9\n",
      "13\n",
      "17\n"
     ]
    }
   ],
   "source": [
    "rangeSample = range(1,20,4)\n",
    "print(rangeSample)\n",
    "for i in rangeSample: print(i)"
   ]
  },
  {
   "cell_type": "markdown",
   "id": "b07de7b4-15d1-40ea-9317-0f76bde54623",
   "metadata": {},
   "source": [
    "# Seq Data Type Part II"
   ]
  },
  {
   "cell_type": "markdown",
   "id": "94f4869f-400d-427c-8b52-215ab5749490",
   "metadata": {},
   "source": [
    "## String Indexing"
   ]
  },
  {
   "cell_type": "code",
   "execution_count": 23,
   "id": "885601f4-9f2e-47bd-a64b-3e6f8e8307a8",
   "metadata": {},
   "outputs": [],
   "source": [
    "strSample = 'learning'"
   ]
  },
  {
   "cell_type": "code",
   "execution_count": 24,
   "id": "e2f45cf6-6647-413a-a26b-867554d5a112",
   "metadata": {},
   "outputs": [
    {
     "data": {
      "text/plain": [
       "0"
      ]
     },
     "execution_count": 24,
     "metadata": {},
     "output_type": "execute_result"
    }
   ],
   "source": [
    "strSample.index('l')"
   ]
  },
  {
   "cell_type": "code",
   "execution_count": 25,
   "id": "d7f265c1-d504-47bb-873f-00aca0a2fdca",
   "metadata": {},
   "outputs": [
    {
     "data": {
      "text/plain": [
       "4"
      ]
     },
     "execution_count": 25,
     "metadata": {},
     "output_type": "execute_result"
    }
   ],
   "source": [
    "strSample.index('ning')"
   ]
  },
  {
   "cell_type": "code",
   "execution_count": 26,
   "id": "b360c46f-415e-4d98-84b4-2c94b1514e1b",
   "metadata": {},
   "outputs": [
    {
     "data": {
      "text/plain": [
       "'g'"
      ]
     },
     "execution_count": 26,
     "metadata": {},
     "output_type": "execute_result"
    }
   ],
   "source": [
    "strSample[7]"
   ]
  },
  {
   "cell_type": "code",
   "execution_count": 27,
   "id": "a5ce81f6-c167-47ab-8c2a-92f70f60062a",
   "metadata": {},
   "outputs": [
    {
     "data": {
      "text/plain": [
       "'n'"
      ]
     },
     "execution_count": 27,
     "metadata": {},
     "output_type": "execute_result"
    }
   ],
   "source": [
    "strSample[-2]"
   ]
  },
  {
   "cell_type": "code",
   "execution_count": 28,
   "id": "56525e27-701e-46bf-8ce6-93d10ab663f1",
   "metadata": {},
   "outputs": [
    {
     "ename": "IndexError",
     "evalue": "string index out of range",
     "output_type": "error",
     "traceback": [
      "\u001b[1;31m---------------------------------------------------------------------------\u001b[0m",
      "\u001b[1;31mIndexError\u001b[0m                                Traceback (most recent call last)",
      "Cell \u001b[1;32mIn[28], line 1\u001b[0m\n\u001b[1;32m----> 1\u001b[0m \u001b[43mstrSample\u001b[49m\u001b[43m[\u001b[49m\u001b[38;5;241;43m-\u001b[39;49m\u001b[38;5;241;43m9\u001b[39;49m\u001b[43m]\u001b[49m\n",
      "\u001b[1;31mIndexError\u001b[0m: string index out of range"
     ]
    }
   ],
   "source": [
    "strSample[-9]"
   ]
  },
  {
   "cell_type": "markdown",
   "id": "cd817b7a-db8c-4800-96e0-33dee5b78ef7",
   "metadata": {},
   "source": [
    "## List Indexing"
   ]
  },
  {
   "cell_type": "code",
   "execution_count": 155,
   "id": "8315a710-9e7d-48fc-b2d0-9ab924991ac7",
   "metadata": {},
   "outputs": [],
   "source": [
    "lstSample = [1, 2, 'a', 'venom', 2]"
   ]
  },
  {
   "cell_type": "code",
   "execution_count": 30,
   "id": "937ceb3a-46ea-4a07-b363-d9050e2e0747",
   "metadata": {},
   "outputs": [
    {
     "data": {
      "text/plain": [
       "3"
      ]
     },
     "execution_count": 30,
     "metadata": {},
     "output_type": "execute_result"
    }
   ],
   "source": [
    "lstSample.index('venom')"
   ]
  },
  {
   "cell_type": "code",
   "execution_count": 31,
   "id": "fa5d13df-57a5-4738-bbec-50dffc181c4e",
   "metadata": {},
   "outputs": [
    {
     "data": {
      "text/plain": [
       "1"
      ]
     },
     "execution_count": 31,
     "metadata": {},
     "output_type": "execute_result"
    }
   ],
   "source": [
    "lstSample.index(2)"
   ]
  },
  {
   "cell_type": "code",
   "execution_count": 32,
   "id": "14fe9ad0-e205-4b65-be25-21d12aa3e929",
   "metadata": {},
   "outputs": [
    {
     "data": {
      "text/plain": [
       "'a'"
      ]
     },
     "execution_count": 32,
     "metadata": {},
     "output_type": "execute_result"
    }
   ],
   "source": [
    "lstSample[2]"
   ]
  },
  {
   "cell_type": "code",
   "execution_count": 33,
   "id": "0985495a-8591-4050-8433-4e245175c956",
   "metadata": {},
   "outputs": [
    {
     "data": {
      "text/plain": [
       "'venom'"
      ]
     },
     "execution_count": 33,
     "metadata": {},
     "output_type": "execute_result"
    }
   ],
   "source": [
    "lstSample[-2]"
   ]
  },
  {
   "cell_type": "markdown",
   "id": "d7286632-1a9b-4b31-be3d-fec9e06518cb",
   "metadata": {},
   "source": [
    "## Array Indexing"
   ]
  },
  {
   "cell_type": "code",
   "execution_count": 34,
   "id": "e113b034-c99c-4371-9bfd-f5842e9282ba",
   "metadata": {},
   "outputs": [],
   "source": [
    "from array import *"
   ]
  },
  {
   "cell_type": "code",
   "execution_count": 120,
   "id": "b84bb508-2c8c-4203-bc02-e4e98375910f",
   "metadata": {},
   "outputs": [],
   "source": [
    "arrSample = array('i',[1, 2, 3, 4])"
   ]
  },
  {
   "cell_type": "code",
   "execution_count": 36,
   "id": "24bb4fcd-a8a9-496a-8e90-3b8663470dfd",
   "metadata": {},
   "outputs": [
    {
     "data": {
      "text/plain": [
       "2"
      ]
     },
     "execution_count": 36,
     "metadata": {},
     "output_type": "execute_result"
    }
   ],
   "source": [
    "arrSample[1]"
   ]
  },
  {
   "cell_type": "code",
   "execution_count": 37,
   "id": "d26c5c30-a894-415c-9a09-cc3ac32f0434",
   "metadata": {},
   "outputs": [
    {
     "data": {
      "text/plain": [
       "3"
      ]
     },
     "execution_count": 37,
     "metadata": {},
     "output_type": "execute_result"
    }
   ],
   "source": [
    "arrSample[-2]"
   ]
  },
  {
   "cell_type": "markdown",
   "id": "24f464b6-c5e4-4410-b4ed-fff1d526dd82",
   "metadata": {},
   "source": [
    "## Tuple Indexing"
   ]
  },
  {
   "cell_type": "code",
   "execution_count": 38,
   "id": "63bd22c6-ab1b-4f63-af12-a4dd498612b7",
   "metadata": {},
   "outputs": [],
   "source": [
    "tupSample = (1, 2, 3, 4, 'hi')"
   ]
  },
  {
   "cell_type": "code",
   "execution_count": 39,
   "id": "893cff5f-deb3-49f8-9a58-35aa24e5813f",
   "metadata": {},
   "outputs": [
    {
     "data": {
      "text/plain": [
       "4"
      ]
     },
     "execution_count": 39,
     "metadata": {},
     "output_type": "execute_result"
    }
   ],
   "source": [
    "tupSample.index('hi')"
   ]
  },
  {
   "cell_type": "code",
   "execution_count": 40,
   "id": "44a1cfc4-d0d3-4b3c-abaa-b10e65b4fdff",
   "metadata": {},
   "outputs": [
    {
     "data": {
      "text/plain": [
       "4"
      ]
     },
     "execution_count": 40,
     "metadata": {},
     "output_type": "execute_result"
    }
   ],
   "source": [
    "tupSample[-2]"
   ]
  },
  {
   "cell_type": "markdown",
   "id": "a82f3284-8d87-4753-b45a-8db931acd207",
   "metadata": {},
   "source": [
    "## Set Indexing"
   ]
  },
  {
   "cell_type": "code",
   "execution_count": 97,
   "id": "abbde07a-98b7-4404-8279-43850bd399c5",
   "metadata": {},
   "outputs": [
    {
     "data": {
      "text/plain": [
       "{1, 2, 24.75, 5, 'hello', 'world'}"
      ]
     },
     "execution_count": 97,
     "metadata": {},
     "output_type": "execute_result"
    }
   ],
   "source": [
    "setSample = {1, 2, 24.75, 'hello', 5, 'world'}\n",
    "setSample"
   ]
  },
  {
   "cell_type": "code",
   "execution_count": 42,
   "id": "da34c862-42a0-41c8-a4dc-d1f7c69ea4f6",
   "metadata": {},
   "outputs": [
    {
     "ename": "TypeError",
     "evalue": "'set' object is not subscriptable",
     "output_type": "error",
     "traceback": [
      "\u001b[1;31m---------------------------------------------------------------------------\u001b[0m",
      "\u001b[1;31mTypeError\u001b[0m                                 Traceback (most recent call last)",
      "Cell \u001b[1;32mIn[42], line 1\u001b[0m\n\u001b[1;32m----> 1\u001b[0m \u001b[43msetSample\u001b[49m\u001b[43m[\u001b[49m\u001b[38;5;241;43m2\u001b[39;49m\u001b[43m]\u001b[49m\n",
      "\u001b[1;31mTypeError\u001b[0m: 'set' object is not subscriptable"
     ]
    }
   ],
   "source": [
    "setSample[2]"
   ]
  },
  {
   "cell_type": "code",
   "execution_count": 43,
   "id": "9f7643af-64fa-40ce-9e5c-7e36d0948a1b",
   "metadata": {},
   "outputs": [
    {
     "ename": "AttributeError",
     "evalue": "'set' object has no attribute 'index'",
     "output_type": "error",
     "traceback": [
      "\u001b[1;31m---------------------------------------------------------------------------\u001b[0m",
      "\u001b[1;31mAttributeError\u001b[0m                            Traceback (most recent call last)",
      "Cell \u001b[1;32mIn[43], line 1\u001b[0m\n\u001b[1;32m----> 1\u001b[0m \u001b[43msetSample\u001b[49m\u001b[38;5;241;43m.\u001b[39;49m\u001b[43mindex\u001b[49m(\u001b[38;5;241m2\u001b[39m)\n",
      "\u001b[1;31mAttributeError\u001b[0m: 'set' object has no attribute 'index'"
     ]
    }
   ],
   "source": [
    "setSample.index(2)"
   ]
  },
  {
   "cell_type": "markdown",
   "id": "51b144ad-074b-49be-857f-f59a9838255f",
   "metadata": {},
   "source": [
    "## Dictionary Indexing"
   ]
  },
  {
   "cell_type": "code",
   "execution_count": 108,
   "id": "2a52558f-592e-430c-abfe-31056c766974",
   "metadata": {},
   "outputs": [],
   "source": [
    "dictSample = {1:'first', 'second':2, 3:3, 'four':4}"
   ]
  },
  {
   "cell_type": "code",
   "execution_count": 45,
   "id": "c8854a9b-5d91-4fb9-b148-e12a26b5626e",
   "metadata": {},
   "outputs": [
    {
     "ename": "KeyError",
     "evalue": "2",
     "output_type": "error",
     "traceback": [
      "\u001b[1;31m---------------------------------------------------------------------------\u001b[0m",
      "\u001b[1;31mKeyError\u001b[0m                                  Traceback (most recent call last)",
      "Cell \u001b[1;32mIn[45], line 1\u001b[0m\n\u001b[1;32m----> 1\u001b[0m \u001b[43mdictSample\u001b[49m\u001b[43m[\u001b[49m\u001b[38;5;241;43m2\u001b[39;49m\u001b[43m]\u001b[49m\n",
      "\u001b[1;31mKeyError\u001b[0m: 2"
     ]
    }
   ],
   "source": [
    "dictSample[2]"
   ]
  },
  {
   "cell_type": "code",
   "execution_count": 46,
   "id": "3ea486e2-4df3-44dc-883e-71db132b663e",
   "metadata": {},
   "outputs": [
    {
     "data": {
      "text/plain": [
       "'first'"
      ]
     },
     "execution_count": 46,
     "metadata": {},
     "output_type": "execute_result"
    }
   ],
   "source": [
    "dictSample[1]"
   ]
  },
  {
   "cell_type": "code",
   "execution_count": 47,
   "id": "64ea38f1-ef21-4828-aa2c-fc2252f41cf9",
   "metadata": {},
   "outputs": [
    {
     "data": {
      "text/plain": [
       "2"
      ]
     },
     "execution_count": 47,
     "metadata": {},
     "output_type": "execute_result"
    }
   ],
   "source": [
    "dictSample['second']"
   ]
  },
  {
   "cell_type": "markdown",
   "id": "6c063d08-6133-4b2a-966c-bbd2ee34716b",
   "metadata": {},
   "source": [
    "## Range Indexing"
   ]
  },
  {
   "cell_type": "code",
   "execution_count": 48,
   "id": "6e39b18c-eca1-470b-aef3-0d14fcca4525",
   "metadata": {},
   "outputs": [
    {
     "name": "stdout",
     "output_type": "stream",
     "text": [
      "1\n",
      "5\n",
      "9\n",
      "13\n",
      "17\n"
     ]
    }
   ],
   "source": [
    "rangeSample = range(1, 20, 4)\n",
    "for x in rangeSample: print(x)"
   ]
  },
  {
   "cell_type": "code",
   "execution_count": 49,
   "id": "723724f9-b5d5-48cb-9e24-0fa831c2a3a1",
   "metadata": {},
   "outputs": [
    {
     "ename": "ValueError",
     "evalue": "0 is not in range",
     "output_type": "error",
     "traceback": [
      "\u001b[1;31m---------------------------------------------------------------------------\u001b[0m",
      "\u001b[1;31mValueError\u001b[0m                                Traceback (most recent call last)",
      "Cell \u001b[1;32mIn[49], line 1\u001b[0m\n\u001b[1;32m----> 1\u001b[0m \u001b[43mrangeSample\u001b[49m\u001b[38;5;241;43m.\u001b[39;49m\u001b[43mindex\u001b[49m\u001b[43m(\u001b[49m\u001b[38;5;241;43m0\u001b[39;49m\u001b[43m)\u001b[49m\n",
      "\u001b[1;31mValueError\u001b[0m: 0 is not in range"
     ]
    }
   ],
   "source": [
    "rangeSample.index(0)"
   ]
  },
  {
   "cell_type": "code",
   "execution_count": 50,
   "id": "43a8fb5b-6679-4b52-8aeb-bb9424e337dc",
   "metadata": {},
   "outputs": [
    {
     "data": {
      "text/plain": [
       "2"
      ]
     },
     "execution_count": 50,
     "metadata": {},
     "output_type": "execute_result"
    }
   ],
   "source": [
    "rangeSample.index(9)"
   ]
  },
  {
   "cell_type": "code",
   "execution_count": 51,
   "id": "f76b4b27-0847-463e-8294-a456cff94305",
   "metadata": {},
   "outputs": [
    {
     "data": {
      "text/plain": [
       "13"
      ]
     },
     "execution_count": 51,
     "metadata": {},
     "output_type": "execute_result"
    }
   ],
   "source": [
    "rangeSample[3]"
   ]
  },
  {
   "cell_type": "markdown",
   "id": "a5f997d0-c3ed-4e07-8a19-1ed59229ef36",
   "metadata": {},
   "source": [
    "# Seq Data Type Part III"
   ]
  },
  {
   "cell_type": "markdown",
   "id": "23e9e41e-87e8-4ad4-98f2-e6df1351b937",
   "metadata": {},
   "source": [
    "## Slicing : slice(start, stop, step)"
   ]
  },
  {
   "cell_type": "code",
   "execution_count": 52,
   "id": "d3354a9f-86f4-4aba-aa00-4b104976fac2",
   "metadata": {},
   "outputs": [
    {
     "name": "stdout",
     "output_type": "stream",
     "text": [
      "learning\n"
     ]
    },
    {
     "data": {
      "text/plain": [
       "'lan'"
      ]
     },
     "execution_count": 52,
     "metadata": {},
     "output_type": "execute_result"
    }
   ],
   "source": [
    "print(strSample)\n",
    "strSample[slice(0,5,2)]"
   ]
  },
  {
   "cell_type": "code",
   "execution_count": 53,
   "id": "34a76c52-4e56-4633-a6f1-a26654a49e34",
   "metadata": {},
   "outputs": [
    {
     "name": "stdout",
     "output_type": "stream",
     "text": [
      "learning\n",
      "earn\n"
     ]
    }
   ],
   "source": [
    "print(strSample[:])\n",
    "print(strSample[1:5])"
   ]
  },
  {
   "cell_type": "code",
   "execution_count": 54,
   "id": "361080ea-d49c-4c56-b2a6-0da3a340ea9d",
   "metadata": {},
   "outputs": [
    {
     "name": "stdout",
     "output_type": "stream",
     "text": [
      "[1, 2, 'a', 'venom', 2]\n",
      "[1, 2, 'a']\n",
      "['a', 'venom', 2]\n"
     ]
    }
   ],
   "source": [
    "print(lstSample)\n",
    "print(lstSample[:3])\n",
    "print(lstSample[2:])"
   ]
  },
  {
   "cell_type": "code",
   "execution_count": 55,
   "id": "e6700a43-2ed6-4ceb-a201-f5cfdae84b9e",
   "metadata": {},
   "outputs": [
    {
     "data": {
      "text/plain": [
       "['a', 'venom']"
      ]
     },
     "execution_count": 55,
     "metadata": {},
     "output_type": "execute_result"
    }
   ],
   "source": [
    "lstSample[2:4]"
   ]
  },
  {
   "cell_type": "code",
   "execution_count": 56,
   "id": "e5ad76ce-9cff-4509-ace7-7eef39c2d9ba",
   "metadata": {},
   "outputs": [
    {
     "ename": "TypeError",
     "evalue": "unhashable type: 'slice'",
     "output_type": "error",
     "traceback": [
      "\u001b[1;31m---------------------------------------------------------------------------\u001b[0m",
      "\u001b[1;31mTypeError\u001b[0m                                 Traceback (most recent call last)",
      "Cell \u001b[1;32mIn[56], line 1\u001b[0m\n\u001b[1;32m----> 1\u001b[0m \u001b[43mdictSample\u001b[49m\u001b[43m[\u001b[49m\u001b[38;5;241;43m1\u001b[39;49m\u001b[43m:\u001b[49m\u001b[38;5;124;43m'\u001b[39;49m\u001b[38;5;124;43msecond\u001b[39;49m\u001b[38;5;124;43m'\u001b[39;49m\u001b[43m]\u001b[49m\n",
      "\u001b[1;31mTypeError\u001b[0m: unhashable type: 'slice'"
     ]
    }
   ],
   "source": [
    "dictSample[1:'second']"
   ]
  },
  {
   "cell_type": "code",
   "execution_count": 57,
   "id": "5e193a1c-ea76-48d5-a7dd-07d7b97e877d",
   "metadata": {},
   "outputs": [
    {
     "ename": "TypeError",
     "evalue": "'set' object is not subscriptable",
     "output_type": "error",
     "traceback": [
      "\u001b[1;31m---------------------------------------------------------------------------\u001b[0m",
      "\u001b[1;31mTypeError\u001b[0m                                 Traceback (most recent call last)",
      "Cell \u001b[1;32mIn[57], line 1\u001b[0m\n\u001b[1;32m----> 1\u001b[0m \u001b[43msetSample\u001b[49m\u001b[43m[\u001b[49m\u001b[38;5;241;43m1\u001b[39;49m\u001b[43m:\u001b[49m\u001b[38;5;241;43m2\u001b[39;49m\u001b[43m]\u001b[49m\n",
      "\u001b[1;31mTypeError\u001b[0m: 'set' object is not subscriptable"
     ]
    }
   ],
   "source": [
    "setSample[1:2]"
   ]
  },
  {
   "cell_type": "code",
   "execution_count": 58,
   "id": "ed73162c-51e7-4f25-b9f9-55baa6270d30",
   "metadata": {},
   "outputs": [
    {
     "data": {
      "text/plain": [
       "array('i', [2, 3, 4])"
      ]
     },
     "execution_count": 58,
     "metadata": {},
     "output_type": "execute_result"
    }
   ],
   "source": [
    "arrSample[1:]"
   ]
  },
  {
   "cell_type": "code",
   "execution_count": 59,
   "id": "7ff12a67-87b9-48b3-a7cc-8fe8b5d5acae",
   "metadata": {},
   "outputs": [
    {
     "name": "stdout",
     "output_type": "stream",
     "text": [
      "1\n",
      "5\n",
      "9\n",
      "13\n",
      "17\n",
      "range(5, 21, 4)\n",
      "range(1, 17, 4)\n"
     ]
    }
   ],
   "source": [
    "for x in rangeSample: print(x)\n",
    "print(rangeSample[1:])\n",
    "print(rangeSample[:-1])"
   ]
  },
  {
   "cell_type": "markdown",
   "id": "79b6c964-2344-41a5-a0c2-5e150bece56d",
   "metadata": {},
   "source": [
    "## Concatenation"
   ]
  },
  {
   "cell_type": "code",
   "execution_count": 60,
   "id": "651b75c7-82d6-4a1d-ad6d-783d27d95506",
   "metadata": {},
   "outputs": [
    {
     "data": {
      "text/plain": [
       "'learning python'"
      ]
     },
     "execution_count": 60,
     "metadata": {},
     "output_type": "execute_result"
    }
   ],
   "source": [
    "strSample + ' ' + 'python'"
   ]
  },
  {
   "cell_type": "code",
   "execution_count": 61,
   "id": "7be19778-41a9-4b44-a7e4-59c09a9a7ff7",
   "metadata": {},
   "outputs": [
    {
     "data": {
      "text/plain": [
       "[1, 2, 'a', 'venom', 2, 'newStr']"
      ]
     },
     "execution_count": 61,
     "metadata": {},
     "output_type": "execute_result"
    }
   ],
   "source": [
    "lstSample + ['newStr']"
   ]
  },
  {
   "cell_type": "code",
   "execution_count": 62,
   "id": "e43d3d8b-c629-4151-b5d5-ef2e09584ad8",
   "metadata": {},
   "outputs": [
    {
     "name": "stdout",
     "output_type": "stream",
     "text": [
      "[1, 2, 'a', 'venom', 2]\n"
     ]
    }
   ],
   "source": [
    "print(lstSample)"
   ]
  },
  {
   "cell_type": "code",
   "execution_count": 63,
   "id": "73e51418-b588-43cd-ae06-87f87eeff005",
   "metadata": {},
   "outputs": [
    {
     "name": "stdout",
     "output_type": "stream",
     "text": [
      "array('i', [1, 2, 3, 4])\n"
     ]
    },
    {
     "ename": "TypeError",
     "evalue": "can only append array (not \"list\") to array",
     "output_type": "error",
     "traceback": [
      "\u001b[1;31m---------------------------------------------------------------------------\u001b[0m",
      "\u001b[1;31mTypeError\u001b[0m                                 Traceback (most recent call last)",
      "Cell \u001b[1;32mIn[63], line 2\u001b[0m\n\u001b[0;32m      1\u001b[0m \u001b[38;5;28mprint\u001b[39m(arrSample)\n\u001b[1;32m----> 2\u001b[0m \u001b[43marrSample\u001b[49m\u001b[43m \u001b[49m\u001b[38;5;241;43m+\u001b[39;49m\u001b[43m \u001b[49m\u001b[43m[\u001b[49m\u001b[38;5;241;43m50\u001b[39;49m\u001b[43m,\u001b[49m\u001b[43m \u001b[49m\u001b[38;5;241;43m60\u001b[39;49m\u001b[43m]\u001b[49m\n",
      "\u001b[1;31mTypeError\u001b[0m: can only append array (not \"list\") to array"
     ]
    }
   ],
   "source": [
    "print(arrSample)\n",
    "arrSample + [50, 60]"
   ]
  },
  {
   "cell_type": "code",
   "execution_count": 64,
   "id": "680655cb-c427-4590-a8e6-1aabafb56d4b",
   "metadata": {},
   "outputs": [
    {
     "data": {
      "text/plain": [
       "array('i', [1, 2, 3, 4, 50, 60])"
      ]
     },
     "execution_count": 64,
     "metadata": {},
     "output_type": "execute_result"
    }
   ],
   "source": [
    "arrSample + array('i', [50, 60])"
   ]
  },
  {
   "cell_type": "code",
   "execution_count": 65,
   "id": "12133c33-029b-47bc-9045-12e00aba18c3",
   "metadata": {},
   "outputs": [
    {
     "name": "stdout",
     "output_type": "stream",
     "text": [
      "array('i', [1, 2, 3, 4])\n"
     ]
    }
   ],
   "source": [
    "print(arrSample)"
   ]
  },
  {
   "cell_type": "code",
   "execution_count": 66,
   "id": "5af4cd91-8b34-4c7a-bd80-4b1c973a8f4c",
   "metadata": {},
   "outputs": [
    {
     "name": "stdout",
     "output_type": "stream",
     "text": [
      "(1, 2, 3, 4, 'hi', 'on', 'off')\n"
     ]
    }
   ],
   "source": [
    "tupSample += ('on', 'off')\n",
    "print(tupSample)"
   ]
  },
  {
   "cell_type": "code",
   "execution_count": 98,
   "id": "92932ea7-a917-42ea-82e9-de250acece8e",
   "metadata": {},
   "outputs": [
    {
     "name": "stdout",
     "output_type": "stream",
     "text": [
      "{1, 2, 'hello', 5, 'world', 24.75}\n",
      "({1, 2, 'hello', 5, 'world', 24.75}, 24.75)\n"
     ]
    }
   ],
   "source": [
    "print(setSample)\n",
    "setSampled = setSample, 24.75\n",
    "print(setSampled)"
   ]
  },
  {
   "cell_type": "markdown",
   "id": "a4193c45-75c2-4bec-8784-926643bad97a",
   "metadata": {},
   "source": [
    "## Multiplication : object * interger"
   ]
  },
  {
   "cell_type": "code",
   "execution_count": 68,
   "id": "6741f2bd-9bda-4950-a495-c19defe32c52",
   "metadata": {},
   "outputs": [
    {
     "name": "stdout",
     "output_type": "stream",
     "text": [
      "learninglearninglearning\n"
     ]
    }
   ],
   "source": [
    "strSample *= 3\n",
    "print(strSample)"
   ]
  },
  {
   "cell_type": "code",
   "execution_count": 69,
   "id": "ad29878a-be84-4f63-9906-16b92e0e69a2",
   "metadata": {},
   "outputs": [
    {
     "data": {
      "text/plain": [
       "[1, 2, 'a', 'venom', 2, 1, 2, 'a', 'venom', 2]"
      ]
     },
     "execution_count": 69,
     "metadata": {},
     "output_type": "execute_result"
    }
   ],
   "source": [
    "lstSample * 2"
   ]
  },
  {
   "cell_type": "code",
   "execution_count": 70,
   "id": "06154ab9-9dcc-48d9-9c2f-931f7354494d",
   "metadata": {},
   "outputs": [
    {
     "data": {
      "text/plain": [
       "4"
      ]
     },
     "execution_count": 70,
     "metadata": {},
     "output_type": "execute_result"
    }
   ],
   "source": [
    "lstSample[1]*2"
   ]
  },
  {
   "cell_type": "code",
   "execution_count": 71,
   "id": "5fa8ce80-f3a9-40af-bcac-719584b9cab4",
   "metadata": {},
   "outputs": [
    {
     "name": "stdout",
     "output_type": "stream",
     "text": [
      "[1, 2, 'a', 'venomvenom', 2]\n"
     ]
    }
   ],
   "source": [
    "lstSample[3] *= 2\n",
    "print(lstSample)"
   ]
  },
  {
   "cell_type": "code",
   "execution_count": 72,
   "id": "752bd842-325d-4a17-bda8-a4eea449d176",
   "metadata": {},
   "outputs": [
    {
     "name": "stdout",
     "output_type": "stream",
     "text": [
      "(1, 2, 3, 4, 'hi', 'on', 'off')\n"
     ]
    },
    {
     "data": {
      "text/plain": [
       "(3, 4, 3, 4, 3, 4)"
      ]
     },
     "execution_count": 72,
     "metadata": {},
     "output_type": "execute_result"
    }
   ],
   "source": [
    "print(tupSample)\n",
    "tupSample[2:4] * 3"
   ]
  },
  {
   "cell_type": "code",
   "execution_count": 73,
   "id": "e7bb1d74-e989-4245-91bd-a1e9c1f8b254",
   "metadata": {},
   "outputs": [
    {
     "data": {
      "text/plain": [
       "array('i', [1, 2, 3, 4, 1, 2, 3, 4])"
      ]
     },
     "execution_count": 73,
     "metadata": {},
     "output_type": "execute_result"
    }
   ],
   "source": [
    "arrSample * 2"
   ]
  },
  {
   "cell_type": "code",
   "execution_count": 74,
   "id": "3537ff34-8917-424e-a7e6-7dd360bc3d65",
   "metadata": {},
   "outputs": [
    {
     "ename": "TypeError",
     "evalue": "unsupported operand type(s) for *: 'range' and 'int'",
     "output_type": "error",
     "traceback": [
      "\u001b[1;31m---------------------------------------------------------------------------\u001b[0m",
      "\u001b[1;31mTypeError\u001b[0m                                 Traceback (most recent call last)",
      "Cell \u001b[1;32mIn[74], line 1\u001b[0m\n\u001b[1;32m----> 1\u001b[0m \u001b[43mrangeSample\u001b[49m\u001b[43m \u001b[49m\u001b[38;5;241;43m*\u001b[39;49m\u001b[43m \u001b[49m\u001b[38;5;241;43m2\u001b[39;49m\n",
      "\u001b[1;31mTypeError\u001b[0m: unsupported operand type(s) for *: 'range' and 'int'"
     ]
    }
   ],
   "source": [
    "rangeSample * 2"
   ]
  },
  {
   "cell_type": "markdown",
   "id": "fcd62cfa-e3f8-4fd2-91a6-e0656072f6af",
   "metadata": {},
   "source": [
    "# Seq Data Type Part IV"
   ]
  },
  {
   "cell_type": "markdown",
   "id": "9791a52c-dc72-4150-a11c-06e2568a897c",
   "metadata": {},
   "source": [
    "## String Methods"
   ]
  },
  {
   "cell_type": "code",
   "execution_count": 75,
   "id": "09b91162-0517-477c-aef5-c77659852be8",
   "metadata": {},
   "outputs": [
    {
     "name": "stdout",
     "output_type": "stream",
     "text": [
      "learning is fun!\n"
     ]
    }
   ],
   "source": [
    "st = 'learning is fun!'\n",
    "print(st)"
   ]
  },
  {
   "cell_type": "code",
   "execution_count": 76,
   "id": "63a0f934-0dc6-4187-bc29-94cce23de554",
   "metadata": {},
   "outputs": [
    {
     "data": {
      "text/plain": [
       "'Learning is fun!'"
      ]
     },
     "execution_count": 76,
     "metadata": {},
     "output_type": "execute_result"
    }
   ],
   "source": [
    "st.capitalize()"
   ]
  },
  {
   "cell_type": "code",
   "execution_count": 77,
   "id": "4bb58db8-dc20-4d0e-8e03-c0d2b75787b5",
   "metadata": {},
   "outputs": [
    {
     "data": {
      "text/plain": [
       "'Learning Is Fun!'"
      ]
     },
     "execution_count": 77,
     "metadata": {},
     "output_type": "execute_result"
    }
   ],
   "source": [
    "st.title()"
   ]
  },
  {
   "cell_type": "code",
   "execution_count": 78,
   "id": "53f70e1b-3be1-4941-a35e-fafe1ae98ac0",
   "metadata": {},
   "outputs": [
    {
     "data": {
      "text/plain": [
       "'LEARNING IS FUN!'"
      ]
     },
     "execution_count": 78,
     "metadata": {},
     "output_type": "execute_result"
    }
   ],
   "source": [
    "st.swapcase()"
   ]
  },
  {
   "cell_type": "code",
   "execution_count": 79,
   "id": "d65966c8-7620-4034-8b2b-de0506be70e3",
   "metadata": {},
   "outputs": [
    {
     "data": {
      "text/plain": [
       "4"
      ]
     },
     "execution_count": 79,
     "metadata": {},
     "output_type": "execute_result"
    }
   ],
   "source": [
    "st.find('n')"
   ]
  },
  {
   "cell_type": "code",
   "execution_count": 80,
   "id": "f997a739-3da3-4903-8edb-500bb3ff1eb4",
   "metadata": {},
   "outputs": [
    {
     "data": {
      "text/plain": [
       "3"
      ]
     },
     "execution_count": 80,
     "metadata": {},
     "output_type": "execute_result"
    }
   ],
   "source": [
    "st.count('n')"
   ]
  },
  {
   "cell_type": "code",
   "execution_count": 81,
   "id": "43450950-602a-4420-b58c-8f5b8bdd6221",
   "metadata": {},
   "outputs": [
    {
     "data": {
      "text/plain": [
       "'learning is joyful!'"
      ]
     },
     "execution_count": 81,
     "metadata": {},
     "output_type": "execute_result"
    }
   ],
   "source": [
    "st.replace('fun', 'joyful')"
   ]
  },
  {
   "cell_type": "code",
   "execution_count": 82,
   "id": "847d6d7a-30df-415c-b642-6ab61ded3bad",
   "metadata": {},
   "outputs": [
    {
     "data": {
      "text/plain": [
       "False"
      ]
     },
     "execution_count": 82,
     "metadata": {},
     "output_type": "execute_result"
    }
   ],
   "source": [
    "st.isalnum()"
   ]
  },
  {
   "cell_type": "code",
   "execution_count": 83,
   "id": "8e1a688b-95b7-4b34-a5f8-4de77deb5528",
   "metadata": {},
   "outputs": [],
   "source": [
    "text1 = 'VENOM'\n",
    "text2 = 'The'\n",
    "text3 = 'Last'\n",
    "text4 = 'Dance'"
   ]
  },
  {
   "cell_type": "code",
   "execution_count": 84,
   "id": "9021fa39-c1fb-4b73-80b0-7570bf1925f4",
   "metadata": {},
   "outputs": [
    {
     "name": "stdout",
     "output_type": "stream",
     "text": [
      "VENOM : The Last Dance.\n"
     ]
    }
   ],
   "source": [
    "title = '{} : {} {} {}.'.format(text1, text2, text3, text4)\n",
    "print(title)"
   ]
  },
  {
   "cell_type": "code",
   "execution_count": 85,
   "id": "0f625fc1-0ec2-402e-a7b9-f7d4acf52ab3",
   "metadata": {},
   "outputs": [
    {
     "name": "stdout",
     "output_type": "stream",
     "text": [
      "['__add__', '__class__', '__contains__', '__delattr__', '__dir__', '__doc__', '__eq__', '__format__', '__ge__', '__getattribute__', '__getitem__', '__getnewargs__', '__getstate__', '__gt__', '__hash__', '__init__', '__init_subclass__', '__iter__', '__le__', '__len__', '__lt__', '__mod__', '__mul__', '__ne__', '__new__', '__reduce__', '__reduce_ex__', '__repr__', '__rmod__', '__rmul__', '__setattr__', '__sizeof__', '__str__', '__subclasshook__', 'capitalize', 'casefold', 'center', 'count', 'encode', 'endswith', 'expandtabs', 'find', 'format', 'format_map', 'index', 'isalnum', 'isalpha', 'isascii', 'isdecimal', 'isdigit', 'isidentifier', 'islower', 'isnumeric', 'isprintable', 'isspace', 'istitle', 'isupper', 'join', 'ljust', 'lower', 'lstrip', 'maketrans', 'partition', 'removeprefix', 'removesuffix', 'replace', 'rfind', 'rindex', 'rjust', 'rpartition', 'rsplit', 'rstrip', 'split', 'splitlines', 'startswith', 'strip', 'swapcase', 'title', 'translate', 'upper', 'zfill']\n"
     ]
    }
   ],
   "source": [
    "print(dir(title))"
   ]
  },
  {
   "cell_type": "markdown",
   "id": "ea3dfda9-29b5-48ec-ab29-708d45089347",
   "metadata": {},
   "source": [
    "## len(object) returns number of element in the object"
   ]
  },
  {
   "cell_type": "code",
   "execution_count": 88,
   "id": "c8e33e7c-aae1-49c5-848e-5df238f65ace",
   "metadata": {},
   "outputs": [
    {
     "name": "stdout",
     "output_type": "stream",
     "text": [
      "Number of elements in the object : \n",
      "string = 16, list = 5, array = 4, tuple = 7, dictionary = 4, set = 2, range = 5\n"
     ]
    }
   ],
   "source": [
    "print(\"Number of elements in the object : \")\n",
    "print(\"string = {}, list = {}, array = {}, tuple = {}, dictionary = {}, set = {}, range = {}\".format(len(st), len(lstSample), len(arrSample),\n",
    "                                                     len(tupSample), len(dictSample), len(setSample), len(rangeSample))) "
   ]
  },
  {
   "cell_type": "code",
   "execution_count": 93,
   "id": "18c45145-3e1c-449a-b93f-d9d0e6d01479",
   "metadata": {},
   "outputs": [
    {
     "name": "stdout",
     "output_type": "stream",
     "text": [
      "[2, 'venomvenom', 'a', 2, 1]\n",
      "[1, 2, 'a', 'venomvenom', 2]\n"
     ]
    }
   ],
   "source": [
    "print(lstSample)\n",
    "lstSample.reverse()\n",
    "print(lstSample)"
   ]
  },
  {
   "cell_type": "markdown",
   "id": "cca6718c-d674-4110-8dfa-1f25b0d164eb",
   "metadata": {},
   "source": [
    "## clear() method removes all items from the object"
   ]
  },
  {
   "cell_type": "markdown",
   "id": "6fab68b6-9469-45df-9456-31197145815f",
   "metadata": {},
   "source": [
    "supported seq data : list, dictionary, set"
   ]
  },
  {
   "cell_type": "code",
   "execution_count": 99,
   "id": "0b900021-d1bf-4fb5-b017-10f705ed20c1",
   "metadata": {},
   "outputs": [
    {
     "name": "stdout",
     "output_type": "stream",
     "text": [
      "[]\n",
      "{}\n",
      "set()\n"
     ]
    }
   ],
   "source": [
    "lstSample.clear()\n",
    "print(lstSample)\n",
    "dictSample.clear()\n",
    "print(dictSample)\n",
    "setSample.clear()\n",
    "print(setSample)"
   ]
  },
  {
   "cell_type": "markdown",
   "id": "70b51778-2c20-48ee-bc6d-9749b62bd3d9",
   "metadata": {},
   "source": [
    "## append() adds an item at the end of the object"
   ]
  },
  {
   "cell_type": "markdown",
   "id": "30e06973-095a-42ff-a7e6-6c2caf14fdfd",
   "metadata": {},
   "source": [
    "supported seq data : list, array, set"
   ]
  },
  {
   "cell_type": "markdown",
   "id": "fb5ca668-1971-48a2-bd8d-be0b807353d1",
   "metadata": {},
   "source": [
    "note: set has add method instead of append"
   ]
  },
  {
   "cell_type": "code",
   "execution_count": 100,
   "id": "fa842a05-e595-443e-89cc-e752380f5b8b",
   "metadata": {},
   "outputs": [
    {
     "name": "stdout",
     "output_type": "stream",
     "text": [
      "array('i', [1, 2, 3, 4, 3])\n"
     ]
    }
   ],
   "source": [
    "arrSample.append(3)\n",
    "print(arrSample)"
   ]
  },
  {
   "cell_type": "code",
   "execution_count": 156,
   "id": "f3ab42c5-b7bd-4070-b2cb-041a44ba5f8e",
   "metadata": {},
   "outputs": [
    {
     "name": "stdout",
     "output_type": "stream",
     "text": [
      "[1, 2, 'a', 'venom', 2, 'spidy']\n"
     ]
    }
   ],
   "source": [
    "lstSample.append('spidy')\n",
    "print(lstSample)"
   ]
  },
  {
   "cell_type": "code",
   "execution_count": 104,
   "id": "c54ac056-bda4-4ba6-a7bb-9492eb007ff4",
   "metadata": {},
   "outputs": [
    {
     "name": "stdout",
     "output_type": "stream",
     "text": [
      "{1, 3}\n"
     ]
    }
   ],
   "source": [
    "setSample.add(1)\n",
    "setSample.add(3)\n",
    "setSample.add(1) # No duplicates in Set\n",
    "print(setSample)"
   ]
  },
  {
   "cell_type": "markdown",
   "id": "7f20d8b9-131f-462d-8c4a-6b2daf3fc68c",
   "metadata": {},
   "source": [
    "## update() function in set adds elements from a set(passed as an arugument) to the set"
   ]
  },
  {
   "cell_type": "markdown",
   "id": "3da2b2bd-b8d3-4761-8952-bf4e75645745",
   "metadata": {},
   "source": [
    "1. takes only single argument. 2. argument can be a set, list, tuple. 3. it automatically converts into a set and adds to the set"
   ]
  },
  {
   "cell_type": "code",
   "execution_count": 106,
   "id": "913deff7-d9dd-4b01-9be6-1e1234541e2f",
   "metadata": {},
   "outputs": [
    {
     "name": "stdout",
     "output_type": "stream",
     "text": [
      "{1, 2, 3, 4, 5, 'hello'}\n"
     ]
    }
   ],
   "source": [
    "setSample.update([1, 2, 3, 4, 4, 5, 5, 'hello'])\n",
    "print(setSample)"
   ]
  },
  {
   "cell_type": "markdown",
   "id": "d90b7a17-c444-4dbd-b7de-24b0aa5636e6",
   "metadata": {},
   "source": [
    "## Dictionary Methods"
   ]
  },
  {
   "cell_type": "code",
   "execution_count": 109,
   "id": "22af7171-3379-4681-8ca3-3542c50a3bf3",
   "metadata": {},
   "outputs": [
    {
     "name": "stdout",
     "output_type": "stream",
     "text": [
      "{1: 'first', 'second': 2, 3: 3, 'four': 4}\n"
     ]
    }
   ],
   "source": [
    "print(dictSample)"
   ]
  },
  {
   "cell_type": "code",
   "execution_count": 110,
   "id": "c71a8052-d9cf-4850-bda8-c9e223da2983",
   "metadata": {},
   "outputs": [
    {
     "name": "stdout",
     "output_type": "stream",
     "text": [
      "{1: 'first', 'second': 2, 3: 3, 'four': 4, 'five': 10}\n"
     ]
    }
   ],
   "source": [
    "dictSample[\"five\"] = 10\n",
    "print(dictSample)"
   ]
  },
  {
   "cell_type": "code",
   "execution_count": 111,
   "id": "1a5f2510-8380-4e1c-9f1a-fc5a00a3c242",
   "metadata": {},
   "outputs": [
    {
     "name": "stdout",
     "output_type": "stream",
     "text": [
      "{1: 'first', 'second': 2, 3: 3, 'four': 4, 'five': 10, 'six': 6}\n"
     ]
    }
   ],
   "source": [
    "dictSample.update(six = 6)\n",
    "print(dictSample)"
   ]
  },
  {
   "cell_type": "code",
   "execution_count": 112,
   "id": "d114a3ed-3c9d-43f7-844c-99c9e4c6fb91",
   "metadata": {},
   "outputs": [
    {
     "data": {
      "text/plain": [
       "[1, 'second', 3, 'four', 'five', 'six']"
      ]
     },
     "execution_count": 112,
     "metadata": {},
     "output_type": "execute_result"
    }
   ],
   "source": [
    "list(dictSample)"
   ]
  },
  {
   "cell_type": "code",
   "execution_count": 113,
   "id": "d1a77ca3-b19d-4caf-850a-1ec8e5d78a51",
   "metadata": {},
   "outputs": [
    {
     "data": {
      "text/plain": [
       "10"
      ]
     },
     "execution_count": 113,
     "metadata": {},
     "output_type": "execute_result"
    }
   ],
   "source": [
    "dictSample.get(\"five\")"
   ]
  },
  {
   "cell_type": "code",
   "execution_count": 114,
   "id": "2b62e739-3976-4df1-9579-1661be76fd89",
   "metadata": {},
   "outputs": [
    {
     "data": {
      "text/plain": [
       "dict_keys([1, 'second', 3, 'four', 'five', 'six'])"
      ]
     },
     "execution_count": 114,
     "metadata": {},
     "output_type": "execute_result"
    }
   ],
   "source": [
    "dictSample.keys()"
   ]
  },
  {
   "cell_type": "code",
   "execution_count": 115,
   "id": "6522a699-a32a-4185-a963-bc4c8405b0ca",
   "metadata": {},
   "outputs": [
    {
     "data": {
      "text/plain": [
       "dict_items([(1, 'first'), ('second', 2), (3, 3), ('four', 4), ('five', 10), ('six', 6)])"
      ]
     },
     "execution_count": 115,
     "metadata": {},
     "output_type": "execute_result"
    }
   ],
   "source": [
    "dictSample.items()"
   ]
  },
  {
   "cell_type": "markdown",
   "id": "c3e76ad8-a092-4b8a-9641-fc917db96cb3",
   "metadata": {},
   "source": [
    "## insert() method inserts item at a specific index in an object"
   ]
  },
  {
   "cell_type": "markdown",
   "id": "1dfbf1ca-ce8c-4b7c-9dca-07e1005b7fdd",
   "metadata": {},
   "source": [
    "supported seq data : list, array"
   ]
  },
  {
   "cell_type": "code",
   "execution_count": 116,
   "id": "d060c51c-c892-4974-a41b-14bb4b7bf6c1",
   "metadata": {},
   "outputs": [
    {
     "name": "stdout",
     "output_type": "stream",
     "text": [
      "array('i', [1, 2, 3, 4, 3])\n"
     ]
    }
   ],
   "source": [
    "print(arrSample)"
   ]
  },
  {
   "cell_type": "code",
   "execution_count": 121,
   "id": "999187c8-b4e4-4669-8b3f-58077c5259f1",
   "metadata": {},
   "outputs": [
    {
     "name": "stdout",
     "output_type": "stream",
     "text": [
      "array('i', [1, 2, 200, 3, 4])\n"
     ]
    }
   ],
   "source": [
    "arrSample.insert(2, 200)\n",
    "print(arrSample)"
   ]
  },
  {
   "cell_type": "code",
   "execution_count": 125,
   "id": "ad74a161-cc81-436f-bb0a-116d8b7c715f",
   "metadata": {},
   "outputs": [
    {
     "name": "stdout",
     "output_type": "stream",
     "text": [
      "[1, 2, 'a', 'venom', 2, 'spidy']\n"
     ]
    }
   ],
   "source": [
    "print(lstSample)"
   ]
  },
  {
   "cell_type": "code",
   "execution_count": 130,
   "id": "1eb4b413-c303-4e87-9448-3af285e95010",
   "metadata": {},
   "outputs": [
    {
     "name": "stdout",
     "output_type": "stream",
     "text": [
      "[1, 2, 'carnage', 'a', 'venom', 2, 'spidy']\n"
     ]
    }
   ],
   "source": [
    "lstSample.insert(2,'carnage')\n",
    "print(lstSample)"
   ]
  },
  {
   "cell_type": "markdown",
   "id": "6a3851f6-2894-4a31-9f43-4a66c452ea36",
   "metadata": {},
   "source": [
    "## pop() methods removes the element at the given index from the object and prints the same"
   ]
  },
  {
   "cell_type": "markdown",
   "id": "3d3c9c2d-1725-43b4-a062-961e1b2f31df",
   "metadata": {},
   "source": [
    "- default value is -1, which returns the last item; supported seq data: array, list, set, dictionary"
   ]
  },
  {
   "cell_type": "markdown",
   "id": "5c191297-c387-458b-806b-8aeefe2199eb",
   "metadata": {},
   "source": [
    "- set is an unordered sequence and hence pop is not usually used"
   ]
  },
  {
   "cell_type": "code",
   "execution_count": 131,
   "id": "770e3b2f-0f89-466f-bc19-a09019cb33e5",
   "metadata": {},
   "outputs": [
    {
     "data": {
      "text/plain": [
       "4"
      ]
     },
     "execution_count": 131,
     "metadata": {},
     "output_type": "execute_result"
    }
   ],
   "source": [
    "arrSample.pop()"
   ]
  },
  {
   "cell_type": "code",
   "execution_count": 133,
   "id": "126314c0-824e-4df0-9e07-0281091695df",
   "metadata": {},
   "outputs": [
    {
     "name": "stdout",
     "output_type": "stream",
     "text": [
      "[1, 2, 'carnage', 'a', 'venom', 2, 'spidy']\n"
     ]
    },
    {
     "data": {
      "text/plain": [
       "'carnage'"
      ]
     },
     "execution_count": 133,
     "metadata": {},
     "output_type": "execute_result"
    }
   ],
   "source": [
    "print(lstSample)\n",
    "lstSample.pop(2)"
   ]
  },
  {
   "cell_type": "code",
   "execution_count": 135,
   "id": "e9c7d60e-7a1b-4577-bb9e-54c4a27685c4",
   "metadata": {},
   "outputs": [
    {
     "name": "stdout",
     "output_type": "stream",
     "text": [
      "{1: 'first', 'second': 2, 3: 3, 'four': 4, 'five': 10, 'six': 6}\n"
     ]
    },
    {
     "data": {
      "text/plain": [
       "10"
      ]
     },
     "execution_count": 135,
     "metadata": {},
     "output_type": "execute_result"
    }
   ],
   "source": [
    "print(dictSample)\n",
    "dictSample.pop('five')"
   ]
  },
  {
   "cell_type": "markdown",
   "id": "4b31df56-e306-4b33-980a-278cb544ab64",
   "metadata": {},
   "source": [
    "## remove() method removes the first occurence of the element with the specified value"
   ]
  },
  {
   "cell_type": "markdown",
   "id": "5593d9a4-47f0-4afd-802d-3220f8e3b293",
   "metadata": {},
   "source": [
    "- supported seq data : list, array, set, dictionary"
   ]
  },
  {
   "cell_type": "code",
   "execution_count": 136,
   "id": "1b7542df-320a-4bfb-82fd-32bbcb5e3474",
   "metadata": {},
   "outputs": [],
   "source": [
    "arrSample.remove(3)"
   ]
  },
  {
   "cell_type": "code",
   "execution_count": 137,
   "id": "edf071ee-82af-497c-9707-ba2b35666071",
   "metadata": {},
   "outputs": [
    {
     "name": "stdout",
     "output_type": "stream",
     "text": [
      "array('i', [1, 2, 200])\n"
     ]
    }
   ],
   "source": [
    "print(arrSample)"
   ]
  },
  {
   "cell_type": "code",
   "execution_count": 138,
   "id": "8eb7f909-86f8-4b01-a731-dd058f3a515b",
   "metadata": {},
   "outputs": [
    {
     "name": "stdout",
     "output_type": "stream",
     "text": [
      "{2, 3, 4, 5, 'hello'}\n"
     ]
    }
   ],
   "source": [
    "setSample.remove(1)\n",
    "print(setSample)"
   ]
  },
  {
   "cell_type": "markdown",
   "id": "813add9e-fe82-4348-a5b1-974772ea20b1",
   "metadata": {},
   "source": [
    "## extend() method adds specified list elements (or any iterable - list, set, tuple) to the end of current list"
   ]
  },
  {
   "cell_type": "code",
   "execution_count": 141,
   "id": "02a414e6-999f-450a-87ac-f71e17da5e93",
   "metadata": {},
   "outputs": [
    {
     "name": "stdout",
     "output_type": "stream",
     "text": [
      "array('i', [1, 2, 200])\n",
      "array('i', [1, 2, 200, 3, 4, 5])\n"
     ]
    }
   ],
   "source": [
    "print(arrSample)\n",
    "arrSample.extend((3, 4, 5))\n",
    "print(arrSample)"
   ]
  },
  {
   "cell_type": "code",
   "execution_count": 142,
   "id": "0e1b4c20-e684-49d8-9657-6b1c0a6ed769",
   "metadata": {},
   "outputs": [
    {
     "ename": "TypeError",
     "evalue": "'str' object cannot be interpreted as an integer",
     "output_type": "error",
     "traceback": [
      "\u001b[1;31m---------------------------------------------------------------------------\u001b[0m",
      "\u001b[1;31mTypeError\u001b[0m                                 Traceback (most recent call last)",
      "Cell \u001b[1;32mIn[142], line 1\u001b[0m\n\u001b[1;32m----> 1\u001b[0m \u001b[43marrSample\u001b[49m\u001b[38;5;241;43m.\u001b[39;49m\u001b[43mextend\u001b[49m\u001b[43m(\u001b[49m\u001b[43m[\u001b[49m\u001b[38;5;124;43m'\u001b[39;49m\u001b[38;5;124;43mdoom\u001b[39;49m\u001b[38;5;124;43m'\u001b[39;49m\u001b[43m]\u001b[49m\u001b[43m)\u001b[49m\n",
      "\u001b[1;31mTypeError\u001b[0m: 'str' object cannot be interpreted as an integer"
     ]
    }
   ],
   "source": [
    "arrSample.extend(['doom'])"
   ]
  },
  {
   "cell_type": "code",
   "execution_count": 143,
   "id": "2daf97f8-2ae9-4ea6-b738-1fdf7b1bda62",
   "metadata": {},
   "outputs": [
    {
     "name": "stdout",
     "output_type": "stream",
     "text": [
      "array('i', [1, 2, 200, 3, 4, 5, 600, 1000])\n"
     ]
    }
   ],
   "source": [
    "arrSample.fromlist([600, 1000]) # adds values from a list to an array\n",
    "print(arrSample)"
   ]
  },
  {
   "cell_type": "code",
   "execution_count": 145,
   "id": "3be10645-666c-4577-9428-3a4880244a0c",
   "metadata": {},
   "outputs": [
    {
     "data": {
      "text/plain": [
       "[1, 2, 200, 3, 4, 5, 600, 1000]"
      ]
     },
     "execution_count": 145,
     "metadata": {},
     "output_type": "execute_result"
    }
   ],
   "source": [
    "arrSample.tolist() # converts array to a list"
   ]
  },
  {
   "cell_type": "markdown",
   "id": "fb5fe643-891c-44f9-b7c6-e4ba49ebf499",
   "metadata": {},
   "source": [
    "## Set Operations"
   ]
  },
  {
   "cell_type": "code",
   "execution_count": 146,
   "id": "5d5b08b8-5795-4924-abc2-a82b56fc54f9",
   "metadata": {},
   "outputs": [
    {
     "name": "stdout",
     "output_type": "stream",
     "text": [
      "{24, 'example', 'data', 87.5}\n"
     ]
    }
   ],
   "source": [
    "A = {'example', 24, 87.5, 'data', 24, 'data'}\n",
    "print(A)"
   ]
  },
  {
   "cell_type": "code",
   "execution_count": 147,
   "id": "eb8518f2-a47c-4755-bf0a-6bb680cc8bf8",
   "metadata": {},
   "outputs": [
    {
     "name": "stdout",
     "output_type": "stream",
     "text": [
      "{24, 87.5}\n"
     ]
    }
   ],
   "source": [
    "B = {24, 87.5}\n",
    "print(B)"
   ]
  },
  {
   "cell_type": "code",
   "execution_count": 149,
   "id": "3ca9c0f0-4cf7-40bc-9480-b7d3ba9c4b6a",
   "metadata": {},
   "outputs": [
    {
     "name": "stdout",
     "output_type": "stream",
     "text": [
      "{'data', 87.5, 24, 'example'}\n"
     ]
    }
   ],
   "source": [
    "print(A | B) # union"
   ]
  },
  {
   "cell_type": "code",
   "execution_count": 150,
   "id": "ec39be25-5d6a-4b13-8457-ce978d420f45",
   "metadata": {},
   "outputs": [
    {
     "name": "stdout",
     "output_type": "stream",
     "text": [
      "{24, 87.5}\n"
     ]
    }
   ],
   "source": [
    "print(A & B) # intersection"
   ]
  },
  {
   "cell_type": "code",
   "execution_count": 151,
   "id": "0f6ff627-7dfb-4ef8-afa3-bf29eb86eb61",
   "metadata": {},
   "outputs": [
    {
     "name": "stdout",
     "output_type": "stream",
     "text": [
      "{'data', 87.5, 24, 'example'}\n",
      "{24, 87.5}\n"
     ]
    }
   ],
   "source": [
    "print(A.union(B))\n",
    "print(A.intersection(B))"
   ]
  },
  {
   "cell_type": "markdown",
   "id": "fe26437a-b598-4fa7-b5d2-0d23baa31e38",
   "metadata": {},
   "source": [
    "## del: deletes the entire object of any data type"
   ]
  },
  {
   "cell_type": "code",
   "execution_count": 157,
   "id": "3eee6f67-7f24-4fcd-98cb-fa50c7d74a60",
   "metadata": {},
   "outputs": [
    {
     "name": "stdout",
     "output_type": "stream",
     "text": [
      "[1, 2, 'a', 'venom', 2, 'spidy']\n"
     ]
    }
   ],
   "source": [
    "print(lstSample)"
   ]
  },
  {
   "cell_type": "code",
   "execution_count": 158,
   "id": "aad9e620-8988-4e9a-8470-4886d2bace83",
   "metadata": {},
   "outputs": [
    {
     "name": "stdout",
     "output_type": "stream",
     "text": [
      "[1, 2, 'a', 'venom', 'spidy']\n"
     ]
    }
   ],
   "source": [
    "del lstSample[4]\n",
    "print(lstSample)"
   ]
  },
  {
   "cell_type": "code",
   "execution_count": 159,
   "id": "854d030c-2b7c-4ea4-a9d5-74795a2d5a94",
   "metadata": {},
   "outputs": [
    {
     "name": "stdout",
     "output_type": "stream",
     "text": [
      "[1, 2, 'a']\n"
     ]
    }
   ],
   "source": [
    "del lstSample[3:5]\n",
    "print(lstSample)"
   ]
  },
  {
   "cell_type": "code",
   "execution_count": 160,
   "id": "3db4c5fd-c680-4edb-aa92-d18363be503f",
   "metadata": {},
   "outputs": [
    {
     "name": "stdout",
     "output_type": "stream",
     "text": [
      "[]\n"
     ]
    }
   ],
   "source": [
    "del lstSample[:]\n",
    "print(lstSample)"
   ]
  },
  {
   "cell_type": "code",
   "execution_count": 162,
   "id": "d46f1d0a-f11e-4b90-a69d-90b2ca24a27d",
   "metadata": {},
   "outputs": [
    {
     "ename": "NameError",
     "evalue": "name 'lstSample' is not defined",
     "output_type": "error",
     "traceback": [
      "\u001b[1;31m---------------------------------------------------------------------------\u001b[0m",
      "\u001b[1;31mNameError\u001b[0m                                 Traceback (most recent call last)",
      "Cell \u001b[1;32mIn[162], line 1\u001b[0m\n\u001b[1;32m----> 1\u001b[0m \u001b[38;5;28;01mdel\u001b[39;00m \u001b[43mlstSample\u001b[49m\n\u001b[0;32m      2\u001b[0m \u001b[38;5;28mprint\u001b[39m(lstSample)\n",
      "\u001b[1;31mNameError\u001b[0m: name 'lstSample' is not defined"
     ]
    }
   ],
   "source": [
    "del lstSample\n",
    "print(lstSample)"
   ]
  },
  {
   "cell_type": "code",
   "execution_count": 163,
   "id": "7d2e2bcc-ffad-45d9-afc2-9f80fcfff5b9",
   "metadata": {},
   "outputs": [
    {
     "ename": "NameError",
     "evalue": "name 'setSample' is not defined",
     "output_type": "error",
     "traceback": [
      "\u001b[1;31m---------------------------------------------------------------------------\u001b[0m",
      "\u001b[1;31mNameError\u001b[0m                                 Traceback (most recent call last)",
      "Cell \u001b[1;32mIn[163], line 2\u001b[0m\n\u001b[0;32m      1\u001b[0m \u001b[38;5;28;01mdel\u001b[39;00m setSample\n\u001b[1;32m----> 2\u001b[0m \u001b[38;5;28mprint\u001b[39m(\u001b[43msetSample\u001b[49m)\n",
      "\u001b[1;31mNameError\u001b[0m: name 'setSample' is not defined"
     ]
    }
   ],
   "source": [
    "del setSample\n",
    "print(setSample)"
   ]
  },
  {
   "cell_type": "code",
   "execution_count": 164,
   "id": "826b37a5-1a96-4db6-b4f7-0723b2c71ce7",
   "metadata": {},
   "outputs": [
    {
     "ename": "NameError",
     "evalue": "name 'arrSample' is not defined",
     "output_type": "error",
     "traceback": [
      "\u001b[1;31m---------------------------------------------------------------------------\u001b[0m",
      "\u001b[1;31mNameError\u001b[0m                                 Traceback (most recent call last)",
      "Cell \u001b[1;32mIn[164], line 2\u001b[0m\n\u001b[0;32m      1\u001b[0m \u001b[38;5;28;01mdel\u001b[39;00m arrSample\n\u001b[1;32m----> 2\u001b[0m \u001b[38;5;28mprint\u001b[39m(\u001b[43marrSample\u001b[49m)\n",
      "\u001b[1;31mNameError\u001b[0m: name 'arrSample' is not defined"
     ]
    }
   ],
   "source": [
    "del arrSample\n",
    "print(arrSample)"
   ]
  },
  {
   "cell_type": "code",
   "execution_count": 165,
   "id": "41975f30-9283-4a31-92e6-37e15d01065e",
   "metadata": {},
   "outputs": [
    {
     "ename": "NameError",
     "evalue": "name 'dictSample' is not defined",
     "output_type": "error",
     "traceback": [
      "\u001b[1;31m---------------------------------------------------------------------------\u001b[0m",
      "\u001b[1;31mNameError\u001b[0m                                 Traceback (most recent call last)",
      "Cell \u001b[1;32mIn[165], line 2\u001b[0m\n\u001b[0;32m      1\u001b[0m \u001b[38;5;28;01mdel\u001b[39;00m dictSample\n\u001b[1;32m----> 2\u001b[0m \u001b[38;5;28mprint\u001b[39m(\u001b[43mdictSample\u001b[49m)\n",
      "\u001b[1;31mNameError\u001b[0m: name 'dictSample' is not defined"
     ]
    }
   ],
   "source": [
    "del dictSample\n",
    "print(dictSample)"
   ]
  },
  {
   "cell_type": "markdown",
   "id": "f90409e1-a144-4749-856c-55a7238fd264",
   "metadata": {},
   "source": [
    "## END"
   ]
  },
  {
   "cell_type": "code",
   "execution_count": null,
   "id": "1171d7d1-239f-4883-87af-fd3fe2e0ecfd",
   "metadata": {},
   "outputs": [],
   "source": []
  }
 ],
 "metadata": {
  "kernelspec": {
   "display_name": "Python 3 (ipykernel)",
   "language": "python",
   "name": "python3"
  },
  "language_info": {
   "codemirror_mode": {
    "name": "ipython",
    "version": 3
   },
   "file_extension": ".py",
   "mimetype": "text/x-python",
   "name": "python",
   "nbconvert_exporter": "python",
   "pygments_lexer": "ipython3",
   "version": "3.11.0"
  }
 },
 "nbformat": 4,
 "nbformat_minor": 5
}
